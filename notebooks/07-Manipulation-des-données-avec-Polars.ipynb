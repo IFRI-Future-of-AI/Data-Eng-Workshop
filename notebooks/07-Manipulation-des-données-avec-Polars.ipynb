{
 "cells": [
  {
   "cell_type": "markdown",
   "id": "aa5d873e",
   "metadata": {},
   "source": [
    "# Notebook — Introduction pratique à **Polars** pour la transformation de données 🧭✨\n",
    "Un petit notebook concis pour montrer comment lire, transformer, agréger, joindre et sauvegarder des jeux de données NYC taxi avec **Polars** — rapide, mémoire-friendly et prêt pour la production. 🚀\n",
    "\n",
    "## 0. Prérequis\n"
   ]
  },
  {
   "cell_type": "code",
   "execution_count": null,
   "id": "b47e8f3d",
   "metadata": {},
   "outputs": [],
   "source": [
    "!  pip install polars pyarrow requests pandas openpyxl"
   ]
  },
  {
   "cell_type": "markdown",
   "id": "be670edf",
   "metadata": {},
   "source": [
    "## 1. Lire les fichiers avec Polars"
   ]
  },
  {
   "cell_type": "code",
   "execution_count": 44,
   "id": "ff94a6d8",
   "metadata": {},
   "outputs": [],
   "source": [
    "import polars as pl\n",
    "trip_path = './../python_project/data/yellow_tripdata/2025-01.parquet'\n",
    "zones_path = './../python_project/data/yellow_tripdata/taxi_zones.parquet'\n",
    "# lecture (format parquet + csv)\n",
    "df = pl.read_parquet(trip_path)\n",
    "zones = pl.read_parquet(zones_path)"
   ]
  },
  {
   "cell_type": "code",
   "execution_count": 26,
   "id": "363e4c9e",
   "metadata": {},
   "outputs": [
    {
     "data": {
      "text/plain": [
       "(3475226, 20)"
      ]
     },
     "execution_count": 26,
     "metadata": {},
     "output_type": "execute_result"
    }
   ],
   "source": [
    "# aperçu et schéma\n",
    "df.shape"
   ]
  },
  {
   "cell_type": "code",
   "execution_count": 27,
   "id": "c20f5373",
   "metadata": {},
   "outputs": [
    {
     "data": {
      "text/plain": [
       "Schema([('VendorID', Int32),\n",
       "        ('tpep_pickup_datetime', Datetime(time_unit='us', time_zone=None)),\n",
       "        ('tpep_dropoff_datetime', Datetime(time_unit='us', time_zone=None)),\n",
       "        ('passenger_count', Int64),\n",
       "        ('trip_distance', Float64),\n",
       "        ('RatecodeID', Int64),\n",
       "        ('store_and_fwd_flag', String),\n",
       "        ('PULocationID', Int32),\n",
       "        ('DOLocationID', Int32),\n",
       "        ('payment_type', Int64),\n",
       "        ('fare_amount', Float64),\n",
       "        ('extra', Float64),\n",
       "        ('mta_tax', Float64),\n",
       "        ('tip_amount', Float64),\n",
       "        ('tolls_amount', Float64),\n",
       "        ('improvement_surcharge', Float64),\n",
       "        ('total_amount', Float64),\n",
       "        ('congestion_surcharge', Float64),\n",
       "        ('Airport_fee', Float64),\n",
       "        ('cbd_congestion_fee', Float64)])"
      ]
     },
     "execution_count": 27,
     "metadata": {},
     "output_type": "execute_result"
    }
   ],
   "source": [
    "df.schema"
   ]
  },
  {
   "cell_type": "code",
   "execution_count": 8,
   "id": "7ac12fb6",
   "metadata": {},
   "outputs": [
    {
     "data": {
      "text/plain": [
       "['VendorID',\n",
       " 'tpep_pickup_datetime',\n",
       " 'tpep_dropoff_datetime',\n",
       " 'passenger_count',\n",
       " 'trip_distance',\n",
       " 'RatecodeID',\n",
       " 'store_and_fwd_flag',\n",
       " 'PULocationID',\n",
       " 'DOLocationID',\n",
       " 'payment_type',\n",
       " 'fare_amount',\n",
       " 'extra',\n",
       " 'mta_tax',\n",
       " 'tip_amount',\n",
       " 'tolls_amount',\n",
       " 'improvement_surcharge',\n",
       " 'total_amount',\n",
       " 'congestion_surcharge',\n",
       " 'Airport_fee',\n",
       " 'cbd_congestion_fee']"
      ]
     },
     "execution_count": 8,
     "metadata": {},
     "output_type": "execute_result"
    }
   ],
   "source": [
    "df.columns"
   ]
  },
  {
   "cell_type": "code",
   "execution_count": 9,
   "id": "e47a9b9b",
   "metadata": {},
   "outputs": [
    {
     "data": {
      "text/html": [
       "<div><style>\n",
       ".dataframe > thead > tr,\n",
       ".dataframe > tbody > tr {\n",
       "  text-align: right;\n",
       "  white-space: pre-wrap;\n",
       "}\n",
       "</style>\n",
       "<small>shape: (5, 20)</small><table border=\"1\" class=\"dataframe\"><thead><tr><th>VendorID</th><th>tpep_pickup_datetime</th><th>tpep_dropoff_datetime</th><th>passenger_count</th><th>trip_distance</th><th>RatecodeID</th><th>store_and_fwd_flag</th><th>PULocationID</th><th>DOLocationID</th><th>payment_type</th><th>fare_amount</th><th>extra</th><th>mta_tax</th><th>tip_amount</th><th>tolls_amount</th><th>improvement_surcharge</th><th>total_amount</th><th>congestion_surcharge</th><th>Airport_fee</th><th>cbd_congestion_fee</th></tr><tr><td>i32</td><td>datetime[μs]</td><td>datetime[μs]</td><td>i64</td><td>f64</td><td>i64</td><td>str</td><td>i32</td><td>i32</td><td>i64</td><td>f64</td><td>f64</td><td>f64</td><td>f64</td><td>f64</td><td>f64</td><td>f64</td><td>f64</td><td>f64</td><td>f64</td></tr></thead><tbody><tr><td>1</td><td>2025-01-01 00:18:38</td><td>2025-01-01 00:26:59</td><td>1</td><td>1.6</td><td>1</td><td>&quot;N&quot;</td><td>229</td><td>237</td><td>1</td><td>10.0</td><td>3.5</td><td>0.5</td><td>3.0</td><td>0.0</td><td>1.0</td><td>18.0</td><td>2.5</td><td>0.0</td><td>0.0</td></tr><tr><td>1</td><td>2025-01-01 00:32:40</td><td>2025-01-01 00:35:13</td><td>1</td><td>0.5</td><td>1</td><td>&quot;N&quot;</td><td>236</td><td>237</td><td>1</td><td>5.1</td><td>3.5</td><td>0.5</td><td>2.02</td><td>0.0</td><td>1.0</td><td>12.12</td><td>2.5</td><td>0.0</td><td>0.0</td></tr><tr><td>1</td><td>2025-01-01 00:44:04</td><td>2025-01-01 00:46:01</td><td>1</td><td>0.6</td><td>1</td><td>&quot;N&quot;</td><td>141</td><td>141</td><td>1</td><td>5.1</td><td>3.5</td><td>0.5</td><td>2.0</td><td>0.0</td><td>1.0</td><td>12.1</td><td>2.5</td><td>0.0</td><td>0.0</td></tr><tr><td>2</td><td>2025-01-01 00:14:27</td><td>2025-01-01 00:20:01</td><td>3</td><td>0.52</td><td>1</td><td>&quot;N&quot;</td><td>244</td><td>244</td><td>2</td><td>7.2</td><td>1.0</td><td>0.5</td><td>0.0</td><td>0.0</td><td>1.0</td><td>9.7</td><td>0.0</td><td>0.0</td><td>0.0</td></tr><tr><td>2</td><td>2025-01-01 00:21:34</td><td>2025-01-01 00:25:06</td><td>3</td><td>0.66</td><td>1</td><td>&quot;N&quot;</td><td>244</td><td>116</td><td>2</td><td>5.8</td><td>1.0</td><td>0.5</td><td>0.0</td><td>0.0</td><td>1.0</td><td>8.3</td><td>0.0</td><td>0.0</td><td>0.0</td></tr></tbody></table></div>"
      ],
      "text/plain": [
       "shape: (5, 20)\n",
       "┌──────────┬───────────┬───────────┬───────────┬───┬───────────┬───────────┬───────────┬───────────┐\n",
       "│ VendorID ┆ tpep_pick ┆ tpep_drop ┆ passenger ┆ … ┆ total_amo ┆ congestio ┆ Airport_f ┆ cbd_conge │\n",
       "│ ---      ┆ up_dateti ┆ off_datet ┆ _count    ┆   ┆ unt       ┆ n_surchar ┆ ee        ┆ stion_fee │\n",
       "│ i32      ┆ me        ┆ ime       ┆ ---       ┆   ┆ ---       ┆ ge        ┆ ---       ┆ ---       │\n",
       "│          ┆ ---       ┆ ---       ┆ i64       ┆   ┆ f64       ┆ ---       ┆ f64       ┆ f64       │\n",
       "│          ┆ datetime[ ┆ datetime[ ┆           ┆   ┆           ┆ f64       ┆           ┆           │\n",
       "│          ┆ μs]       ┆ μs]       ┆           ┆   ┆           ┆           ┆           ┆           │\n",
       "╞══════════╪═══════════╪═══════════╪═══════════╪═══╪═══════════╪═══════════╪═══════════╪═══════════╡\n",
       "│ 1        ┆ 2025-01-0 ┆ 2025-01-0 ┆ 1         ┆ … ┆ 18.0      ┆ 2.5       ┆ 0.0       ┆ 0.0       │\n",
       "│          ┆ 1         ┆ 1         ┆           ┆   ┆           ┆           ┆           ┆           │\n",
       "│          ┆ 00:18:38  ┆ 00:26:59  ┆           ┆   ┆           ┆           ┆           ┆           │\n",
       "│ 1        ┆ 2025-01-0 ┆ 2025-01-0 ┆ 1         ┆ … ┆ 12.12     ┆ 2.5       ┆ 0.0       ┆ 0.0       │\n",
       "│          ┆ 1         ┆ 1         ┆           ┆   ┆           ┆           ┆           ┆           │\n",
       "│          ┆ 00:32:40  ┆ 00:35:13  ┆           ┆   ┆           ┆           ┆           ┆           │\n",
       "│ 1        ┆ 2025-01-0 ┆ 2025-01-0 ┆ 1         ┆ … ┆ 12.1      ┆ 2.5       ┆ 0.0       ┆ 0.0       │\n",
       "│          ┆ 1         ┆ 1         ┆           ┆   ┆           ┆           ┆           ┆           │\n",
       "│          ┆ 00:44:04  ┆ 00:46:01  ┆           ┆   ┆           ┆           ┆           ┆           │\n",
       "│ 2        ┆ 2025-01-0 ┆ 2025-01-0 ┆ 3         ┆ … ┆ 9.7       ┆ 0.0       ┆ 0.0       ┆ 0.0       │\n",
       "│          ┆ 1         ┆ 1         ┆           ┆   ┆           ┆           ┆           ┆           │\n",
       "│          ┆ 00:14:27  ┆ 00:20:01  ┆           ┆   ┆           ┆           ┆           ┆           │\n",
       "│ 2        ┆ 2025-01-0 ┆ 2025-01-0 ┆ 3         ┆ … ┆ 8.3       ┆ 0.0       ┆ 0.0       ┆ 0.0       │\n",
       "│          ┆ 1         ┆ 1         ┆           ┆   ┆           ┆           ┆           ┆           │\n",
       "│          ┆ 00:21:34  ┆ 00:25:06  ┆           ┆   ┆           ┆           ┆           ┆           │\n",
       "└──────────┴───────────┴───────────┴───────────┴───┴───────────┴───────────┴───────────┴───────────┘"
      ]
     },
     "execution_count": 9,
     "metadata": {},
     "output_type": "execute_result"
    }
   ],
   "source": [
    "df.head(5)"
   ]
  },
  {
   "cell_type": "markdown",
   "id": "896bd0a8",
   "metadata": {},
   "source": [
    "## 2. Nettoyage minimal & cast de types (`with_columns`)"
   ]
  },
  {
   "cell_type": "code",
   "execution_count": 38,
   "id": "646bbd2f",
   "metadata": {},
   "outputs": [
    {
     "data": {
      "text/html": [
       "<div><style>\n",
       ".dataframe > thead > tr,\n",
       ".dataframe > tbody > tr {\n",
       "  text-align: right;\n",
       "  white-space: pre-wrap;\n",
       "}\n",
       "</style>\n",
       "<small>shape: (3_475_226, 23)</small><table border=\"1\" class=\"dataframe\"><thead><tr><th>VendorID</th><th>tpep_pickup_datetime</th><th>tpep_dropoff_datetime</th><th>passenger_count</th><th>trip_distance</th><th>RatecodeID</th><th>store_and_fwd_flag</th><th>PULocationID</th><th>DOLocationID</th><th>payment_type</th><th>fare_amount</th><th>extra</th><th>mta_tax</th><th>tip_amount</th><th>tolls_amount</th><th>improvement_surcharge</th><th>total_amount</th><th>congestion_surcharge</th><th>Airport_fee</th><th>cbd_congestion_fee</th><th>pickup_datetime</th><th>pickup_datetime_str</th><th>dropoff_datetime</th></tr><tr><td>i32</td><td>datetime[μs]</td><td>datetime[μs]</td><td>i8</td><td>f32</td><td>i64</td><td>str</td><td>i32</td><td>i32</td><td>i64</td><td>f32</td><td>f64</td><td>f64</td><td>f32</td><td>f64</td><td>f64</td><td>f32</td><td>f64</td><td>f64</td><td>f64</td><td>datetime[μs]</td><td>str</td><td>datetime[μs]</td></tr></thead><tbody><tr><td>1</td><td>2025-01-01 00:18:38</td><td>2025-01-01 00:26:59</td><td>1</td><td>1.6</td><td>1</td><td>&quot;N&quot;</td><td>229</td><td>237</td><td>1</td><td>10.0</td><td>3.5</td><td>0.5</td><td>3.0</td><td>0.0</td><td>1.0</td><td>18.0</td><td>2.5</td><td>0.0</td><td>0.0</td><td>2025-01-01 00:18:38</td><td>&quot;2025-01-01&quot;</td><td>2025-01-01 00:26:59</td></tr><tr><td>1</td><td>2025-01-01 00:32:40</td><td>2025-01-01 00:35:13</td><td>1</td><td>0.5</td><td>1</td><td>&quot;N&quot;</td><td>236</td><td>237</td><td>1</td><td>5.1</td><td>3.5</td><td>0.5</td><td>2.02</td><td>0.0</td><td>1.0</td><td>12.12</td><td>2.5</td><td>0.0</td><td>0.0</td><td>2025-01-01 00:32:40</td><td>&quot;2025-01-01&quot;</td><td>2025-01-01 00:35:13</td></tr><tr><td>1</td><td>2025-01-01 00:44:04</td><td>2025-01-01 00:46:01</td><td>1</td><td>0.6</td><td>1</td><td>&quot;N&quot;</td><td>141</td><td>141</td><td>1</td><td>5.1</td><td>3.5</td><td>0.5</td><td>2.0</td><td>0.0</td><td>1.0</td><td>12.1</td><td>2.5</td><td>0.0</td><td>0.0</td><td>2025-01-01 00:44:04</td><td>&quot;2025-01-01&quot;</td><td>2025-01-01 00:46:01</td></tr><tr><td>2</td><td>2025-01-01 00:14:27</td><td>2025-01-01 00:20:01</td><td>3</td><td>0.52</td><td>1</td><td>&quot;N&quot;</td><td>244</td><td>244</td><td>2</td><td>7.2</td><td>1.0</td><td>0.5</td><td>0.0</td><td>0.0</td><td>1.0</td><td>9.7</td><td>0.0</td><td>0.0</td><td>0.0</td><td>2025-01-01 00:14:27</td><td>&quot;2025-01-01&quot;</td><td>2025-01-01 00:20:01</td></tr><tr><td>2</td><td>2025-01-01 00:21:34</td><td>2025-01-01 00:25:06</td><td>3</td><td>0.66</td><td>1</td><td>&quot;N&quot;</td><td>244</td><td>116</td><td>2</td><td>5.8</td><td>1.0</td><td>0.5</td><td>0.0</td><td>0.0</td><td>1.0</td><td>8.3</td><td>0.0</td><td>0.0</td><td>0.0</td><td>2025-01-01 00:21:34</td><td>&quot;2025-01-01&quot;</td><td>2025-01-01 00:25:06</td></tr><tr><td>&hellip;</td><td>&hellip;</td><td>&hellip;</td><td>&hellip;</td><td>&hellip;</td><td>&hellip;</td><td>&hellip;</td><td>&hellip;</td><td>&hellip;</td><td>&hellip;</td><td>&hellip;</td><td>&hellip;</td><td>&hellip;</td><td>&hellip;</td><td>&hellip;</td><td>&hellip;</td><td>&hellip;</td><td>&hellip;</td><td>&hellip;</td><td>&hellip;</td><td>&hellip;</td><td>&hellip;</td><td>&hellip;</td></tr><tr><td>2</td><td>2025-01-31 23:01:48</td><td>2025-01-31 23:16:29</td><td>null</td><td>3.35</td><td>null</td><td>null</td><td>79</td><td>237</td><td>0</td><td>15.85</td><td>0.0</td><td>0.5</td><td>0.0</td><td>0.0</td><td>1.0</td><td>20.6</td><td>null</td><td>null</td><td>0.75</td><td>2025-01-31 23:01:48</td><td>&quot;2025-01-31&quot;</td><td>2025-01-31 23:16:29</td></tr><tr><td>2</td><td>2025-01-31 23:50:29</td><td>2025-02-01 00:17:27</td><td>null</td><td>8.73</td><td>null</td><td>null</td><td>161</td><td>116</td><td>0</td><td>28.139999</td><td>0.0</td><td>0.5</td><td>0.0</td><td>0.0</td><td>1.0</td><td>32.889999</td><td>null</td><td>null</td><td>0.75</td><td>2025-01-31 23:50:29</td><td>&quot;2025-01-31&quot;</td><td>2025-02-01 00:17:27</td></tr><tr><td>2</td><td>2025-01-31 23:26:59</td><td>2025-01-31 23:43:01</td><td>null</td><td>2.64</td><td>null</td><td>null</td><td>144</td><td>246</td><td>0</td><td>14.91</td><td>0.0</td><td>0.5</td><td>0.0</td><td>0.0</td><td>1.0</td><td>19.66</td><td>null</td><td>null</td><td>0.75</td><td>2025-01-31 23:26:59</td><td>&quot;2025-01-31&quot;</td><td>2025-01-31 23:43:01</td></tr><tr><td>2</td><td>2025-01-31 23:14:34</td><td>2025-01-31 23:34:52</td><td>null</td><td>3.16</td><td>null</td><td>null</td><td>142</td><td>107</td><td>0</td><td>17.549999</td><td>0.0</td><td>0.5</td><td>0.0</td><td>0.0</td><td>1.0</td><td>22.299999</td><td>null</td><td>null</td><td>0.75</td><td>2025-01-31 23:14:34</td><td>&quot;2025-01-31&quot;</td><td>2025-01-31 23:34:52</td></tr><tr><td>2</td><td>2025-01-31 23:56:42</td><td>2025-02-01 00:07:27</td><td>null</td><td>2.29</td><td>null</td><td>null</td><td>237</td><td>238</td><td>0</td><td>12.09</td><td>0.0</td><td>0.5</td><td>0.0</td><td>0.0</td><td>1.0</td><td>16.09</td><td>null</td><td>null</td><td>0.0</td><td>2025-01-31 23:56:42</td><td>&quot;2025-01-31&quot;</td><td>2025-02-01 00:07:27</td></tr></tbody></table></div>"
      ],
      "text/plain": [
       "shape: (3_475_226, 23)\n",
       "┌──────────┬───────────┬───────────┬───────────┬───┬───────────┬───────────┬───────────┬───────────┐\n",
       "│ VendorID ┆ tpep_pick ┆ tpep_drop ┆ passenger ┆ … ┆ cbd_conge ┆ pickup_da ┆ pickup_da ┆ dropoff_d │\n",
       "│ ---      ┆ up_dateti ┆ off_datet ┆ _count    ┆   ┆ stion_fee ┆ tetime    ┆ tetime_st ┆ atetime   │\n",
       "│ i32      ┆ me        ┆ ime       ┆ ---       ┆   ┆ ---       ┆ ---       ┆ r         ┆ ---       │\n",
       "│          ┆ ---       ┆ ---       ┆ i8        ┆   ┆ f64       ┆ datetime[ ┆ ---       ┆ datetime[ │\n",
       "│          ┆ datetime[ ┆ datetime[ ┆           ┆   ┆           ┆ μs]       ┆ str       ┆ μs]       │\n",
       "│          ┆ μs]       ┆ μs]       ┆           ┆   ┆           ┆           ┆           ┆           │\n",
       "╞══════════╪═══════════╪═══════════╪═══════════╪═══╪═══════════╪═══════════╪═══════════╪═══════════╡\n",
       "│ 1        ┆ 2025-01-0 ┆ 2025-01-0 ┆ 1         ┆ … ┆ 0.0       ┆ 2025-01-0 ┆ 2025-01-0 ┆ 2025-01-0 │\n",
       "│          ┆ 1         ┆ 1         ┆           ┆   ┆           ┆ 1         ┆ 1         ┆ 1         │\n",
       "│          ┆ 00:18:38  ┆ 00:26:59  ┆           ┆   ┆           ┆ 00:18:38  ┆           ┆ 00:26:59  │\n",
       "│ 1        ┆ 2025-01-0 ┆ 2025-01-0 ┆ 1         ┆ … ┆ 0.0       ┆ 2025-01-0 ┆ 2025-01-0 ┆ 2025-01-0 │\n",
       "│          ┆ 1         ┆ 1         ┆           ┆   ┆           ┆ 1         ┆ 1         ┆ 1         │\n",
       "│          ┆ 00:32:40  ┆ 00:35:13  ┆           ┆   ┆           ┆ 00:32:40  ┆           ┆ 00:35:13  │\n",
       "│ 1        ┆ 2025-01-0 ┆ 2025-01-0 ┆ 1         ┆ … ┆ 0.0       ┆ 2025-01-0 ┆ 2025-01-0 ┆ 2025-01-0 │\n",
       "│          ┆ 1         ┆ 1         ┆           ┆   ┆           ┆ 1         ┆ 1         ┆ 1         │\n",
       "│          ┆ 00:44:04  ┆ 00:46:01  ┆           ┆   ┆           ┆ 00:44:04  ┆           ┆ 00:46:01  │\n",
       "│ 2        ┆ 2025-01-0 ┆ 2025-01-0 ┆ 3         ┆ … ┆ 0.0       ┆ 2025-01-0 ┆ 2025-01-0 ┆ 2025-01-0 │\n",
       "│          ┆ 1         ┆ 1         ┆           ┆   ┆           ┆ 1         ┆ 1         ┆ 1         │\n",
       "│          ┆ 00:14:27  ┆ 00:20:01  ┆           ┆   ┆           ┆ 00:14:27  ┆           ┆ 00:20:01  │\n",
       "│ 2        ┆ 2025-01-0 ┆ 2025-01-0 ┆ 3         ┆ … ┆ 0.0       ┆ 2025-01-0 ┆ 2025-01-0 ┆ 2025-01-0 │\n",
       "│          ┆ 1         ┆ 1         ┆           ┆   ┆           ┆ 1         ┆ 1         ┆ 1         │\n",
       "│          ┆ 00:21:34  ┆ 00:25:06  ┆           ┆   ┆           ┆ 00:21:34  ┆           ┆ 00:25:06  │\n",
       "│ …        ┆ …         ┆ …         ┆ …         ┆ … ┆ …         ┆ …         ┆ …         ┆ …         │\n",
       "│ 2        ┆ 2025-01-3 ┆ 2025-01-3 ┆ null      ┆ … ┆ 0.75      ┆ 2025-01-3 ┆ 2025-01-3 ┆ 2025-01-3 │\n",
       "│          ┆ 1         ┆ 1         ┆           ┆   ┆           ┆ 1         ┆ 1         ┆ 1         │\n",
       "│          ┆ 23:01:48  ┆ 23:16:29  ┆           ┆   ┆           ┆ 23:01:48  ┆           ┆ 23:16:29  │\n",
       "│ 2        ┆ 2025-01-3 ┆ 2025-02-0 ┆ null      ┆ … ┆ 0.75      ┆ 2025-01-3 ┆ 2025-01-3 ┆ 2025-02-0 │\n",
       "│          ┆ 1         ┆ 1         ┆           ┆   ┆           ┆ 1         ┆ 1         ┆ 1         │\n",
       "│          ┆ 23:50:29  ┆ 00:17:27  ┆           ┆   ┆           ┆ 23:50:29  ┆           ┆ 00:17:27  │\n",
       "│ 2        ┆ 2025-01-3 ┆ 2025-01-3 ┆ null      ┆ … ┆ 0.75      ┆ 2025-01-3 ┆ 2025-01-3 ┆ 2025-01-3 │\n",
       "│          ┆ 1         ┆ 1         ┆           ┆   ┆           ┆ 1         ┆ 1         ┆ 1         │\n",
       "│          ┆ 23:26:59  ┆ 23:43:01  ┆           ┆   ┆           ┆ 23:26:59  ┆           ┆ 23:43:01  │\n",
       "│ 2        ┆ 2025-01-3 ┆ 2025-01-3 ┆ null      ┆ … ┆ 0.75      ┆ 2025-01-3 ┆ 2025-01-3 ┆ 2025-01-3 │\n",
       "│          ┆ 1         ┆ 1         ┆           ┆   ┆           ┆ 1         ┆ 1         ┆ 1         │\n",
       "│          ┆ 23:14:34  ┆ 23:34:52  ┆           ┆   ┆           ┆ 23:14:34  ┆           ┆ 23:34:52  │\n",
       "│ 2        ┆ 2025-01-3 ┆ 2025-02-0 ┆ null      ┆ … ┆ 0.0       ┆ 2025-01-3 ┆ 2025-01-3 ┆ 2025-02-0 │\n",
       "│          ┆ 1         ┆ 1         ┆           ┆   ┆           ┆ 1         ┆ 1         ┆ 1         │\n",
       "│          ┆ 23:56:42  ┆ 00:07:27  ┆           ┆   ┆           ┆ 23:56:42  ┆           ┆ 00:07:27  │\n",
       "└──────────┴───────────┴───────────┴───────────┴───┴───────────┴───────────┴───────────┴───────────┘"
      ]
     },
     "execution_count": 38,
     "metadata": {},
     "output_type": "execute_result"
    }
   ],
   "source": [
    "\n",
    "df = df.with_columns([\n",
    "    # si les colonnes datetime sont des strings, str.strptime; sinon cast fonctionne si déjà datetime\n",
    "    pl.col(\"tpep_pickup_datetime\").alias(\"pickup_datetime\"),\n",
    "    pl.col(\"tpep_pickup_datetime\").dt.strftime(\"%Y-%m-%d\").alias(\"pickup_datetime_str\"),\n",
    "    pl.col(\"tpep_dropoff_datetime\").alias(\"dropoff_datetime\"),\n",
    "    pl.col(\"passenger_count\").cast(pl.Int8),\n",
    "    pl.col(\"trip_distance\").cast(pl.Float32),\n",
    "    pl.col(\"fare_amount\").cast(pl.Float32),\n",
    "    pl.col(\"tip_amount\").cast(pl.Float32),\n",
    "    pl.col(\"total_amount\").cast(pl.Float32),\n",
    "])\n",
    "df"
   ]
  },
  {
   "cell_type": "markdown",
   "id": "13f33744",
   "metadata": {},
   "source": [
    "# 3. Filtrage basique"
   ]
  },
  {
   "cell_type": "code",
   "execution_count": 29,
   "id": "df5338dc",
   "metadata": {},
   "outputs": [],
   "source": [
    "valid = df.filter(\n",
    "    pl.col(\"passenger_count\") > 0, \n",
    "    pl.col(\"trip_distance\") > 0, \n",
    "    pl.col(\"fare_amount\") > 0\n",
    ")"
   ]
  },
  {
   "cell_type": "code",
   "execution_count": 30,
   "id": "d0b2e46a",
   "metadata": {},
   "outputs": [
    {
     "data": {
      "text/html": [
       "<div><style>\n",
       ".dataframe > thead > tr,\n",
       ".dataframe > tbody > tr {\n",
       "  text-align: right;\n",
       "  white-space: pre-wrap;\n",
       "}\n",
       "</style>\n",
       "<small>shape: (5, 6)</small><table border=\"1\" class=\"dataframe\"><thead><tr><th>pickup_datetime</th><th>dropoff_datetime</th><th>passenger_count</th><th>trip_distance</th><th>fare_amount</th><th>tip_amount</th></tr><tr><td>datetime[μs]</td><td>datetime[μs]</td><td>i8</td><td>f32</td><td>f32</td><td>f32</td></tr></thead><tbody><tr><td>2025-01-01 00:18:38</td><td>2025-01-01 00:26:59</td><td>1</td><td>1.6</td><td>10.0</td><td>3.0</td></tr><tr><td>2025-01-01 00:32:40</td><td>2025-01-01 00:35:13</td><td>1</td><td>0.5</td><td>5.1</td><td>2.02</td></tr><tr><td>2025-01-01 00:44:04</td><td>2025-01-01 00:46:01</td><td>1</td><td>0.6</td><td>5.1</td><td>2.0</td></tr><tr><td>2025-01-01 00:14:27</td><td>2025-01-01 00:20:01</td><td>3</td><td>0.52</td><td>7.2</td><td>0.0</td></tr><tr><td>2025-01-01 00:21:34</td><td>2025-01-01 00:25:06</td><td>3</td><td>0.66</td><td>5.8</td><td>0.0</td></tr></tbody></table></div>"
      ],
      "text/plain": [
       "shape: (5, 6)\n",
       "┌──────────────────┬──────────────────┬─────────────────┬───────────────┬─────────────┬────────────┐\n",
       "│ pickup_datetime  ┆ dropoff_datetime ┆ passenger_count ┆ trip_distance ┆ fare_amount ┆ tip_amount │\n",
       "│ ---              ┆ ---              ┆ ---             ┆ ---           ┆ ---         ┆ ---        │\n",
       "│ datetime[μs]     ┆ datetime[μs]     ┆ i8              ┆ f32           ┆ f32         ┆ f32        │\n",
       "╞══════════════════╪══════════════════╪═════════════════╪═══════════════╪═════════════╪════════════╡\n",
       "│ 2025-01-01       ┆ 2025-01-01       ┆ 1               ┆ 1.6           ┆ 10.0        ┆ 3.0        │\n",
       "│ 00:18:38         ┆ 00:26:59         ┆                 ┆               ┆             ┆            │\n",
       "│ 2025-01-01       ┆ 2025-01-01       ┆ 1               ┆ 0.5           ┆ 5.1         ┆ 2.02       │\n",
       "│ 00:32:40         ┆ 00:35:13         ┆                 ┆               ┆             ┆            │\n",
       "│ 2025-01-01       ┆ 2025-01-01       ┆ 1               ┆ 0.6           ┆ 5.1         ┆ 2.0        │\n",
       "│ 00:44:04         ┆ 00:46:01         ┆                 ┆               ┆             ┆            │\n",
       "│ 2025-01-01       ┆ 2025-01-01       ┆ 3               ┆ 0.52          ┆ 7.2         ┆ 0.0        │\n",
       "│ 00:14:27         ┆ 00:20:01         ┆                 ┆               ┆             ┆            │\n",
       "│ 2025-01-01       ┆ 2025-01-01       ┆ 3               ┆ 0.66          ┆ 5.8         ┆ 0.0        │\n",
       "│ 00:21:34         ┆ 00:25:06         ┆                 ┆               ┆             ┆            │\n",
       "└──────────────────┴──────────────────┴─────────────────┴───────────────┴─────────────┴────────────┘"
      ]
     },
     "execution_count": 30,
     "metadata": {},
     "output_type": "execute_result"
    }
   ],
   "source": [
    "valid.select([\n",
    "    \"pickup_datetime\",\"dropoff_datetime\",\"passenger_count\",\"trip_distance\",\"fare_amount\",\"tip_amount\"\n",
    "]).head(5)"
   ]
  },
  {
   "cell_type": "markdown",
   "id": "d1310725",
   "metadata": {},
   "source": [
    "## 5. Ajouter une colonne calculée (`with_columns`)"
   ]
  },
  {
   "cell_type": "code",
   "execution_count": 31,
   "id": "b9e1e948",
   "metadata": {},
   "outputs": [
    {
     "data": {
      "text/html": [
       "<div><style>\n",
       ".dataframe > thead > tr,\n",
       ".dataframe > tbody > tr {\n",
       "  text-align: right;\n",
       "  white-space: pre-wrap;\n",
       "}\n",
       "</style>\n",
       "<small>shape: (5, 3)</small><table border=\"1\" class=\"dataframe\"><thead><tr><th>fare_amount</th><th>tip_amount</th><th>tip_pct</th></tr><tr><td>f32</td><td>f32</td><td>f32</td></tr></thead><tbody><tr><td>10.0</td><td>3.0</td><td>0.3</td></tr><tr><td>5.1</td><td>2.02</td><td>0.396078</td></tr><tr><td>5.1</td><td>2.0</td><td>0.392157</td></tr><tr><td>7.2</td><td>0.0</td><td>0.0</td></tr><tr><td>5.8</td><td>0.0</td><td>0.0</td></tr></tbody></table></div>"
      ],
      "text/plain": [
       "shape: (5, 3)\n",
       "┌─────────────┬────────────┬──────────┐\n",
       "│ fare_amount ┆ tip_amount ┆ tip_pct  │\n",
       "│ ---         ┆ ---        ┆ ---      │\n",
       "│ f32         ┆ f32        ┆ f32      │\n",
       "╞═════════════╪════════════╪══════════╡\n",
       "│ 10.0        ┆ 3.0        ┆ 0.3      │\n",
       "│ 5.1         ┆ 2.02       ┆ 0.396078 │\n",
       "│ 5.1         ┆ 2.0        ┆ 0.392157 │\n",
       "│ 7.2         ┆ 0.0        ┆ 0.0      │\n",
       "│ 5.8         ┆ 0.0        ┆ 0.0      │\n",
       "└─────────────┴────────────┴──────────┘"
      ]
     },
     "execution_count": 31,
     "metadata": {},
     "output_type": "execute_result"
    }
   ],
   "source": [
    "valid = valid.with_columns([\n",
    "    (pl.col(\"tip_amount\") / pl.when(pl.col(\"fare_amount\") == 0).then(1).otherwise(pl.col(\"fare_amount\")))\n",
    "       .alias(\"tip_pct\")\n",
    "])\n",
    "valid.select([\"fare_amount\",\"tip_amount\",\"tip_pct\"]).head(5)"
   ]
  },
  {
   "cell_type": "markdown",
   "id": "962ddc39",
   "metadata": {},
   "source": [
    "## 6. Agrégations groupées (exemples courants)"
   ]
  },
  {
   "cell_type": "code",
   "execution_count": 41,
   "id": "0fca2f1b",
   "metadata": {},
   "outputs": [
    {
     "data": {
      "text/html": [
       "<div><style>\n",
       ".dataframe > thead > tr,\n",
       ".dataframe > tbody > tr {\n",
       "  text-align: right;\n",
       "  white-space: pre-wrap;\n",
       "}\n",
       "</style>\n",
       "<small>shape: (10, 7)</small><table border=\"1\" class=\"dataframe\"><thead><tr><th>PULocationID</th><th>pickup_datetime_str</th><th>n_trips</th><th>total_fare</th><th>avg_distance</th><th>avg_total</th><th>avg_tip_pct</th></tr><tr><td>i32</td><td>str</td><td>u32</td><td>f32</td><td>f32</td><td>f32</td><td>f32</td></tr></thead><tbody><tr><td>237</td><td>&quot;2025-01-23&quot;</td><td>6864</td><td>84224.515625</td><td>1.600251</td><td>20.476576</td><td>0.247662</td></tr><tr><td>161</td><td>&quot;2025-01-23&quot;</td><td>6806</td><td>104350.039062</td><td>2.106201</td><td>25.091021</td><td>0.243275</td></tr><tr><td>161</td><td>&quot;2025-01-16&quot;</td><td>6787</td><td>106234.125</td><td>2.284286</td><td>25.399893</td><td>0.246784</td></tr><tr><td>161</td><td>&quot;2025-01-30&quot;</td><td>6781</td><td>107952.898438</td><td>2.280676</td><td>25.843473</td><td>0.242633</td></tr><tr><td>161</td><td>&quot;2025-01-15&quot;</td><td>6701</td><td>101508.890625</td><td>2.252846</td><td>24.975185</td><td>0.247423</td></tr><tr><td>161</td><td>&quot;2025-01-22&quot;</td><td>6593</td><td>96440.945312</td><td>2.0152</td><td>24.15494</td><td>0.248258</td></tr><tr><td>237</td><td>&quot;2025-01-30&quot;</td><td>6331</td><td>80602.867188</td><td>1.678368</td><td>20.957125</td><td>0.239857</td></tr><tr><td>161</td><td>&quot;2025-01-14&quot;</td><td>6183</td><td>92398.007812</td><td>2.228246</td><td>24.651052</td><td>0.243692</td></tr><tr><td>132</td><td>&quot;2025-01-20&quot;</td><td>6173</td><td>391231.84375</td><td>16.066435</td><td>81.745316</td><td>0.149216</td></tr><tr><td>237</td><td>&quot;2025-01-24&quot;</td><td>6110</td><td>75270.726562</td><td>1.657663</td><td>20.444038</td><td>0.243196</td></tr></tbody></table></div>"
      ],
      "text/plain": [
       "shape: (10, 7)\n",
       "┌──────────────┬────────────────┬─────────┬───────────────┬──────────────┬───────────┬─────────────┐\n",
       "│ PULocationID ┆ pickup_datetim ┆ n_trips ┆ total_fare    ┆ avg_distance ┆ avg_total ┆ avg_tip_pct │\n",
       "│ ---          ┆ e_str          ┆ ---     ┆ ---           ┆ ---          ┆ ---       ┆ ---         │\n",
       "│ i32          ┆ ---            ┆ u32     ┆ f32           ┆ f32          ┆ f32       ┆ f32         │\n",
       "│              ┆ str            ┆         ┆               ┆              ┆           ┆             │\n",
       "╞══════════════╪════════════════╪═════════╪═══════════════╪══════════════╪═══════════╪═════════════╡\n",
       "│ 237          ┆ 2025-01-23     ┆ 6864    ┆ 84224.515625  ┆ 1.600251     ┆ 20.476576 ┆ 0.247662    │\n",
       "│ 161          ┆ 2025-01-23     ┆ 6806    ┆ 104350.039062 ┆ 2.106201     ┆ 25.091021 ┆ 0.243275    │\n",
       "│ 161          ┆ 2025-01-16     ┆ 6787    ┆ 106234.125    ┆ 2.284286     ┆ 25.399893 ┆ 0.246784    │\n",
       "│ 161          ┆ 2025-01-30     ┆ 6781    ┆ 107952.898438 ┆ 2.280676     ┆ 25.843473 ┆ 0.242633    │\n",
       "│ 161          ┆ 2025-01-15     ┆ 6701    ┆ 101508.890625 ┆ 2.252846     ┆ 24.975185 ┆ 0.247423    │\n",
       "│ 161          ┆ 2025-01-22     ┆ 6593    ┆ 96440.945312  ┆ 2.0152       ┆ 24.15494  ┆ 0.248258    │\n",
       "│ 237          ┆ 2025-01-30     ┆ 6331    ┆ 80602.867188  ┆ 1.678368     ┆ 20.957125 ┆ 0.239857    │\n",
       "│ 161          ┆ 2025-01-14     ┆ 6183    ┆ 92398.007812  ┆ 2.228246     ┆ 24.651052 ┆ 0.243692    │\n",
       "│ 132          ┆ 2025-01-20     ┆ 6173    ┆ 391231.84375  ┆ 16.066435    ┆ 81.745316 ┆ 0.149216    │\n",
       "│ 237          ┆ 2025-01-24     ┆ 6110    ┆ 75270.726562  ┆ 1.657663     ┆ 20.444038 ┆ 0.243196    │\n",
       "└──────────────┴────────────────┴─────────┴───────────────┴──────────────┴───────────┴─────────────┘"
      ]
     },
     "execution_count": 41,
     "metadata": {},
     "output_type": "execute_result"
    }
   ],
   "source": [
    "# agrégation par PULocationID : nombre de trajets, distance moyenne, montant moyen, tip% moyen\n",
    "agg = valid.group_by(\n",
    "        [\n",
    "            \"PULocationID\", \"pickup_datetime_str\"\n",
    "        ]\n",
    "        ).agg(\n",
    "        [\n",
    "        pl.len().alias(\"n_trips\"),\n",
    "        pl.sum(\"fare_amount\").alias(\"total_fare\"),\n",
    "        pl.mean(\"trip_distance\").alias(\"avg_distance\"),\n",
    "        pl.mean(\"total_amount\").alias(\"avg_total\"),\n",
    "        pl.mean(\"tip_pct\").alias(\"avg_tip_pct\"),\n",
    "    ]).sort(\n",
    "        \"n_trips\", descending=True\n",
    "    )  # trier par nombre de trajets décroissant\n",
    "\n",
    "agg.head(10)"
   ]
  },
  {
   "cell_type": "markdown",
   "id": "694be562",
   "metadata": {},
   "source": [
    "## 7. Jointure avec la table des zones (lookup)"
   ]
  },
  {
   "cell_type": "code",
   "execution_count": 45,
   "id": "9732a492",
   "metadata": {},
   "outputs": [
    {
     "data": {
      "text/html": [
       "<div><style>\n",
       ".dataframe > thead > tr,\n",
       ".dataframe > tbody > tr {\n",
       "  text-align: right;\n",
       "  white-space: pre-wrap;\n",
       "}\n",
       "</style>\n",
       "<small>shape: (10, 6)</small><table border=\"1\" class=\"dataframe\"><thead><tr><th>PULocationID</th><th>Zone</th><th>Borough</th><th>n_trips</th><th>avg_total</th><th>avg_tip_pct</th></tr><tr><td>i32</td><td>str</td><td>str</td><td>u32</td><td>f32</td><td>f32</td></tr></thead><tbody><tr><td>237</td><td>&quot;Upper East Side South&quot;</td><td>&quot;Manhattan&quot;</td><td>6864</td><td>20.476576</td><td>0.247662</td></tr><tr><td>161</td><td>&quot;Midtown Center&quot;</td><td>&quot;Manhattan&quot;</td><td>6806</td><td>25.091021</td><td>0.243275</td></tr><tr><td>161</td><td>&quot;Midtown Center&quot;</td><td>&quot;Manhattan&quot;</td><td>6787</td><td>25.399893</td><td>0.246784</td></tr><tr><td>161</td><td>&quot;Midtown Center&quot;</td><td>&quot;Manhattan&quot;</td><td>6781</td><td>25.843473</td><td>0.242633</td></tr><tr><td>161</td><td>&quot;Midtown Center&quot;</td><td>&quot;Manhattan&quot;</td><td>6701</td><td>24.975185</td><td>0.247423</td></tr><tr><td>161</td><td>&quot;Midtown Center&quot;</td><td>&quot;Manhattan&quot;</td><td>6593</td><td>24.15494</td><td>0.248258</td></tr><tr><td>237</td><td>&quot;Upper East Side South&quot;</td><td>&quot;Manhattan&quot;</td><td>6331</td><td>20.957125</td><td>0.239857</td></tr><tr><td>161</td><td>&quot;Midtown Center&quot;</td><td>&quot;Manhattan&quot;</td><td>6183</td><td>24.651052</td><td>0.243692</td></tr><tr><td>132</td><td>&quot;JFK Airport&quot;</td><td>&quot;Queens&quot;</td><td>6173</td><td>81.745316</td><td>0.149216</td></tr><tr><td>237</td><td>&quot;Upper East Side South&quot;</td><td>&quot;Manhattan&quot;</td><td>6110</td><td>20.444038</td><td>0.243196</td></tr></tbody></table></div>"
      ],
      "text/plain": [
       "shape: (10, 6)\n",
       "┌──────────────┬───────────────────────┬───────────┬─────────┬───────────┬─────────────┐\n",
       "│ PULocationID ┆ Zone                  ┆ Borough   ┆ n_trips ┆ avg_total ┆ avg_tip_pct │\n",
       "│ ---          ┆ ---                   ┆ ---       ┆ ---     ┆ ---       ┆ ---         │\n",
       "│ i32          ┆ str                   ┆ str       ┆ u32     ┆ f32       ┆ f32         │\n",
       "╞══════════════╪═══════════════════════╪═══════════╪═════════╪═══════════╪═════════════╡\n",
       "│ 237          ┆ Upper East Side South ┆ Manhattan ┆ 6864    ┆ 20.476576 ┆ 0.247662    │\n",
       "│ 161          ┆ Midtown Center        ┆ Manhattan ┆ 6806    ┆ 25.091021 ┆ 0.243275    │\n",
       "│ 161          ┆ Midtown Center        ┆ Manhattan ┆ 6787    ┆ 25.399893 ┆ 0.246784    │\n",
       "│ 161          ┆ Midtown Center        ┆ Manhattan ┆ 6781    ┆ 25.843473 ┆ 0.242633    │\n",
       "│ 161          ┆ Midtown Center        ┆ Manhattan ┆ 6701    ┆ 24.975185 ┆ 0.247423    │\n",
       "│ 161          ┆ Midtown Center        ┆ Manhattan ┆ 6593    ┆ 24.15494  ┆ 0.248258    │\n",
       "│ 237          ┆ Upper East Side South ┆ Manhattan ┆ 6331    ┆ 20.957125 ┆ 0.239857    │\n",
       "│ 161          ┆ Midtown Center        ┆ Manhattan ┆ 6183    ┆ 24.651052 ┆ 0.243692    │\n",
       "│ 132          ┆ JFK Airport           ┆ Queens    ┆ 6173    ┆ 81.745316 ┆ 0.149216    │\n",
       "│ 237          ┆ Upper East Side South ┆ Manhattan ┆ 6110    ┆ 20.444038 ┆ 0.243196    │\n",
       "└──────────────┴───────────────────────┴───────────┴─────────┴───────────┴─────────────┘"
      ]
     },
     "execution_count": 45,
     "metadata": {},
     "output_type": "execute_result"
    }
   ],
   "source": [
    "# taxi_zone_lookup.csv contient typiquement : LocationID, Borough, Zone, service_zone\n",
    "# renommer LocationID pour joindre sur PULocationID\n",
    "zones = zones.rename({\"LocationID\": \"PULocationID\"})\n",
    "\n",
    "# assurez-vous des types (int / même dtype)\n",
    "zones = zones.with_columns(pl.col(\"PULocationID\").cast(pl.Int32))\n",
    "\n",
    "agg = agg.join(zones, on=\"PULocationID\", how=\"left\")\n",
    "agg.select([\"PULocationID\",\"Zone\",\"Borough\",\"n_trips\",\"avg_total\",\"avg_tip_pct\"]).head(10)"
   ]
  },
  {
   "cell_type": "markdown",
   "id": "109784a7",
   "metadata": {},
   "source": [
    "## 8. Sauvegarder les résultats (parquet / csv / xlsx)"
   ]
  },
  {
   "cell_type": "code",
   "execution_count": 24,
   "id": "bb307b87",
   "metadata": {},
   "outputs": [],
   "source": [
    "from pathlib import Path\n",
    "out_dir = Path(\"./outputs\")\n",
    "out_dir.mkdir(exist_ok=True)\n",
    "\n",
    "# parquet (recommandé pour volumes importants)\n",
    "agg.write_parquet(out_dir / \"agg_by_pu.parquet\")\n",
    "\n",
    "# csv\n",
    "agg.write_csv(out_dir / \"agg_by_pu.csv\")\n",
    "\n",
    "# xlsx -> conversion via pandas (openpyxl utilisé par pandas)\n",
    "import pandas as pd\n",
    "agg.to_pandas().to_excel(out_dir / \"agg_by_pu.xlsx\", index=False)"
   ]
  },
  {
   "cell_type": "code",
   "execution_count": 36,
   "id": "05d97d1c",
   "metadata": {},
   "outputs": [
    {
     "data": {
      "application/vnd.plotly.v1+json": {
       "config": {
        "plotlyServerURL": "https://plot.ly"
       },
       "data": [
        {
         "hovertemplate": "Zone=%{x}<br>n_trips=%{y}<extra></extra>",
         "legendgroup": "",
         "marker": {
          "color": "#636efa",
          "pattern": {
           "shape": ""
          }
         },
         "name": "",
         "orientation": "v",
         "showlegend": false,
         "textposition": "auto",
         "type": "bar",
         "x": [
          "Upper East Side South",
          "Midtown Center",
          "Upper East Side North",
          "JFK Airport",
          "Penn Station/Madison Sq West",
          "Times Sq/Theatre District",
          "Midtown East",
          "Lincoln Square East",
          "LaGuardia Airport",
          "Midtown North",
          "Upper West Side South",
          "Murray Hill",
          "Union Sq",
          "East Chelsea",
          "Clinton East",
          "Lenox Hill West",
          "Lenox Hill East",
          "Midtown South",
          "East Village",
          "West Village",
          "Upper West Side North",
          "Yorkville West",
          "Gramercy",
          "West Chelsea/Hudson Yards",
          "Sutton Place/Turtle Bay North",
          "Central Park",
          "Garment District",
          "Flatiron",
          "Greenwich Village South",
          "Greenwich Village North",
          "Yorkville East",
          "TriBeCa/Civic Center",
          "Kips Bay",
          "Lincoln Square West",
          "UN/Turtle Bay South",
          "Little Italy/NoLiTa",
          "Lower East Side",
          "Meatpacking/West Village West",
          "SoHo",
          "Manhattan Valley",
          "East Harlem South",
          "Battery Park City",
          "Hudson Sq",
          "Clinton West",
          "World Trade Center",
          "Financial District North",
          "Morningside Heights",
          "East Elmhurst",
          "N/A",
          "Financial District South",
          "Bloomingdale",
          "Central Harlem",
          "East Harlem North",
          "Chinatown",
          "Seaport",
          "Alphabet City",
          "Stuy Town/Peter Cooper Village",
          "Central Harlem North",
          "Two Bridges/Seward Park",
          "Sunnyside",
          "Hamilton Heights",
          "Washington Heights South",
          "East New York",
          "Crown Heights North",
          "Manhattanville",
          "Downtown Brooklyn/MetroTech",
          "Astoria",
          "Long Island City/Hunters Point",
          "Fort Greene",
          "South Ozone Park",
          "Long Island City/Queens Plaza",
          "Brooklyn Heights",
          "Prospect-Lefferts Gardens",
          "Canarsie",
          "Boerum Hill",
          "Park Slope",
          "Flatbush/Ditmas Park",
          "Battery Park",
          "Baisley Park",
          "Brownsville",
          "Jackson Heights",
          "DUMBO/Vinegar Hill",
          "Stuyvesant Heights",
          "Flatlands",
          "East Flatbush/Remsen Village",
          "Richmond Hill",
          "Jamaica",
          "Williamsburg (North Side)",
          "East Flatbush/Farragut",
          "Outside of NYC",
          "Woodside",
          "Bedford",
          "Williamsburg (South Side)",
          "Steinway",
          "Clinton Hill",
          "Coney Island",
          "Springfield Gardens South",
          "Ocean Hill",
          "Flushing Meadows-Corona Park",
          "Bay Ridge",
          "South Jamaica",
          "Crown Heights South",
          "Bushwick South",
          "East Williamsburg",
          "Red Hook",
          "Starrett City",
          "East Concourse/Concourse Village",
          "Elmhurst",
          "Old Astoria",
          "Cobble Hill",
          "Washington Heights North",
          "Forest Hills",
          "Co-Op City",
          "Mott Haven/Port Morris",
          "Midwood",
          "Kew Gardens",
          "East New York/Pennsylvania Avenue",
          "Queensbridge/Ravenswood",
          "Maspeth",
          "Marine Park/Mill Basin",
          "Williamsbridge/Olinville",
          "Borough Park",
          "Springfield Gardens North",
          "Sheepshead Bay",
          "Greenpoint",
          "Soundview/Castle Hill",
          "Saint Albans",
          "Melrose South",
          "Erasmus",
          "Prospect Heights",
          "Briarwood/Jamaica Hills",
          "Far Rockaway",
          "West Concourse",
          "Hammels/Arverne",
          "Sunset Park West",
          "Homecrest",
          "University Heights/Morris Heights",
          "Parkchester",
          "Highbridge",
          "Carroll Gardens",
          "Corona",
          "Van Cortlandt Village",
          "Mount Hope",
          "Bushwick North",
          "Morrisania/Melrose",
          "Rego Park",
          "Cypress Hills",
          "Bensonhurst West",
          "Claremont/Bathgate",
          "East Tremont",
          "Van Nest/Morris Park",
          "Kensington",
          "Madison",
          "Inwood",
          "Bedford Park",
          "Bensonhurst East",
          "Hillcrest/Pomonok",
          "Kingsbridge Heights",
          "Flushing",
          "Gravesend",
          "Queens Village",
          "Brighton Beach",
          "Norwood",
          "Elmhurst/Maspeth",
          "Jamaica Estates",
          "Spuyten Duyvil/Kingsbridge",
          "Sunset Park East",
          "Rosedale",
          "South Williamsburg",
          "Kew Gardens Hills",
          "Woodlawn/Wakefield",
          "Woodhaven",
          "Eastchester",
          "Ridgewood",
          "Bronxdale",
          "Laurelton",
          "West Farms/Bronx River",
          "Gowanus",
          "Westchester Village/Unionport",
          "Cambria Heights",
          "Howard Beach",
          "Crotona Park East",
          "Soundview/Bruckner",
          "Belmont",
          "Dyker Heights",
          "Roosevelt Island",
          "Schuylerville/Edgewater Park",
          "Pelham Parkway",
          "Middle Village",
          "Allerton/Pelham Gardens",
          "Fordham South",
          "Hunts Point",
          "Longwood",
          "Bath Beach",
          "Newark Airport",
          "Windsor Terrace",
          "College Point",
          "Riverdale/North Riverdale/Fieldston",
          "Rockaway Park",
          "Murray Hill-Queens",
          "Saint Michaels Cemetery/Woodside",
          "Randalls Island",
          "North Corona",
          "Glendale",
          "Bellerose",
          "Pelham Bay",
          "Fresh Meadows",
          "Manhattan Beach",
          "Hollis",
          "Arrochar/Fort Wadsworth",
          "Columbia Street",
          "Ocean Parkway South",
          "Oakland Gardens",
          "Ozone Park",
          "Auburndale",
          "Queensboro Hill",
          "Bayside",
          "Whitestone",
          "Glen Oaks",
          "Douglaston",
          "Brooklyn Navy Yard",
          "Marble Hill",
          "Marine Park/Floyd Bennett Field",
          "Bay Terrace/Fort Totten",
          "Prospect Park",
          "East Flushing",
          "Highbridge Park",
          "Astoria Park",
          "Forest Park/Highland Park",
          "Inwood Hill Park",
          "City Island",
          "Bronx Park",
          "Van Cortlandt Park",
          "South Beach/Dongan Hills",
          "Country Club",
          "Jamaica Bay",
          "Pelham Bay Park",
          "Corona",
          "Grymes Hill/Clifton",
          "Crotona Park",
          "Broad Channel",
          "Willets Point",
          "Oakwood",
          "Breezy Point/Fort Tilden/Riis Beach",
          "Stapleton",
          "Freshkills Park",
          "Great Kills",
          "Arden Heights",
          "Bloomfield/Emerson Hill",
          "Rikers Island",
          "New Dorp/Midland Beach"
         ],
         "xaxis": "x",
         "y": {
          "bdata": "qUICAJs9AgDVGgIAZgoCAKymAQAapAEAipoBAEt9AQC3TQEAwEoBAMI/AQDJNgEA9DABAC0mAQBOEgEAgREBAGz3AACV7wAA/+gAAMHoAAAs3wAACtsAANDXAACmxAAAncEAABOsAABnqQAA7KYAALmgAAA9mgAAqJYAAKOGAACBdQAAfHQAAMdwAADzZwAA8mMAAMhaAACqUwAAAlMAAH9AAAA/PAAAejIAAPoxAAACMQAA+ywAAAMsAAB7IwAAgxwAANYZAADRGAAAuxUAAK8SAAA/DwAA9w4AACQMAABMCgAAQwkAADUJAABpBgAAzQUAAIAFAADWBAAAwwQAALUEAAB0BAAAOQQAAA8EAADZAwAApgMAAH0DAABSAwAARQMAADkDAAA5AwAADgMAAAYDAAD0AgAA4AIAANwCAAC+AgAAnAIAAGsCAABmAgAASwIAAEkCAAAtAgAALQIAACMCAAAVAgAA9wEAAOgBAADkAQAA3AEAANgBAADBAQAAvgEAAL0BAACzAQAArAEAAKgBAACfAQAAmgEAAJkBAACHAQAAeQEAAGwBAABnAQAAXAEAAFUBAABSAQAAUgEAAFEBAABJAQAARAEAADsBAAAvAQAALQEAACgBAAAlAQAAFQEAABIBAAANAQAADQEAAAoBAAAIAQAABwEAAAYBAAAFAQAAAgEAAPUAAADpAAAA5wAAAOQAAADiAAAA4QAAAOEAAADeAAAA3QAAANoAAADaAAAAygAAAL8AAAC5AAAAtAAAALEAAACwAAAAsAAAALAAAACtAAAAqwAAAKYAAACkAAAAoAAAAJ0AAACaAAAAmgAAAJoAAACYAAAAlwAAAI0AAACLAAAAiQAAAIgAAACEAAAAfgAAAH0AAAB9AAAAegAAAHcAAAB3AAAAcAAAAG4AAABuAAAAbgAAAG0AAABsAAAAawAAAGkAAABlAAAAYwAAAGEAAABgAAAAYAAAAF4AAABeAAAAVgAAAFMAAABTAAAAUQAAAFAAAABPAAAATgAAAE4AAABNAAAASwAAAEsAAABKAAAAQwAAAEEAAABAAAAAPgAAAD0AAAA9AAAAPAAAADsAAAA7AAAAOgAAADgAAAA2AAAANgAAADQAAAAzAAAAMAAAACwAAAAqAAAAKQAAACkAAAAoAAAAJAAAACEAAAAfAAAAHwAAABwAAAAXAAAAEgAAAA4AAAAOAAAADQAAAA0AAAAKAAAACQAAAAgAAAAHAAAABQAAAAQAAAAEAAAAAwAAAAMAAAADAAAAAgAAAAIAAAABAAAAAQAAAAEAAAABAAAAAQAAAAEAAAABAAAAAQAAAAEAAAA=",
          "dtype": "u4"
         },
         "yaxis": "y"
        }
       ],
       "layout": {
        "barmode": "relative",
        "legend": {
         "tracegroupgap": 0
        },
        "margin": {
         "t": 60
        },
        "template": {
         "data": {
          "bar": [
           {
            "error_x": {
             "color": "#2a3f5f"
            },
            "error_y": {
             "color": "#2a3f5f"
            },
            "marker": {
             "line": {
              "color": "#E5ECF6",
              "width": 0.5
             },
             "pattern": {
              "fillmode": "overlay",
              "size": 10,
              "solidity": 0.2
             }
            },
            "type": "bar"
           }
          ],
          "barpolar": [
           {
            "marker": {
             "line": {
              "color": "#E5ECF6",
              "width": 0.5
             },
             "pattern": {
              "fillmode": "overlay",
              "size": 10,
              "solidity": 0.2
             }
            },
            "type": "barpolar"
           }
          ],
          "carpet": [
           {
            "aaxis": {
             "endlinecolor": "#2a3f5f",
             "gridcolor": "white",
             "linecolor": "white",
             "minorgridcolor": "white",
             "startlinecolor": "#2a3f5f"
            },
            "baxis": {
             "endlinecolor": "#2a3f5f",
             "gridcolor": "white",
             "linecolor": "white",
             "minorgridcolor": "white",
             "startlinecolor": "#2a3f5f"
            },
            "type": "carpet"
           }
          ],
          "choropleth": [
           {
            "colorbar": {
             "outlinewidth": 0,
             "ticks": ""
            },
            "type": "choropleth"
           }
          ],
          "contour": [
           {
            "colorbar": {
             "outlinewidth": 0,
             "ticks": ""
            },
            "colorscale": [
             [
              0,
              "#0d0887"
             ],
             [
              0.1111111111111111,
              "#46039f"
             ],
             [
              0.2222222222222222,
              "#7201a8"
             ],
             [
              0.3333333333333333,
              "#9c179e"
             ],
             [
              0.4444444444444444,
              "#bd3786"
             ],
             [
              0.5555555555555556,
              "#d8576b"
             ],
             [
              0.6666666666666666,
              "#ed7953"
             ],
             [
              0.7777777777777778,
              "#fb9f3a"
             ],
             [
              0.8888888888888888,
              "#fdca26"
             ],
             [
              1,
              "#f0f921"
             ]
            ],
            "type": "contour"
           }
          ],
          "contourcarpet": [
           {
            "colorbar": {
             "outlinewidth": 0,
             "ticks": ""
            },
            "type": "contourcarpet"
           }
          ],
          "heatmap": [
           {
            "colorbar": {
             "outlinewidth": 0,
             "ticks": ""
            },
            "colorscale": [
             [
              0,
              "#0d0887"
             ],
             [
              0.1111111111111111,
              "#46039f"
             ],
             [
              0.2222222222222222,
              "#7201a8"
             ],
             [
              0.3333333333333333,
              "#9c179e"
             ],
             [
              0.4444444444444444,
              "#bd3786"
             ],
             [
              0.5555555555555556,
              "#d8576b"
             ],
             [
              0.6666666666666666,
              "#ed7953"
             ],
             [
              0.7777777777777778,
              "#fb9f3a"
             ],
             [
              0.8888888888888888,
              "#fdca26"
             ],
             [
              1,
              "#f0f921"
             ]
            ],
            "type": "heatmap"
           }
          ],
          "histogram": [
           {
            "marker": {
             "pattern": {
              "fillmode": "overlay",
              "size": 10,
              "solidity": 0.2
             }
            },
            "type": "histogram"
           }
          ],
          "histogram2d": [
           {
            "colorbar": {
             "outlinewidth": 0,
             "ticks": ""
            },
            "colorscale": [
             [
              0,
              "#0d0887"
             ],
             [
              0.1111111111111111,
              "#46039f"
             ],
             [
              0.2222222222222222,
              "#7201a8"
             ],
             [
              0.3333333333333333,
              "#9c179e"
             ],
             [
              0.4444444444444444,
              "#bd3786"
             ],
             [
              0.5555555555555556,
              "#d8576b"
             ],
             [
              0.6666666666666666,
              "#ed7953"
             ],
             [
              0.7777777777777778,
              "#fb9f3a"
             ],
             [
              0.8888888888888888,
              "#fdca26"
             ],
             [
              1,
              "#f0f921"
             ]
            ],
            "type": "histogram2d"
           }
          ],
          "histogram2dcontour": [
           {
            "colorbar": {
             "outlinewidth": 0,
             "ticks": ""
            },
            "colorscale": [
             [
              0,
              "#0d0887"
             ],
             [
              0.1111111111111111,
              "#46039f"
             ],
             [
              0.2222222222222222,
              "#7201a8"
             ],
             [
              0.3333333333333333,
              "#9c179e"
             ],
             [
              0.4444444444444444,
              "#bd3786"
             ],
             [
              0.5555555555555556,
              "#d8576b"
             ],
             [
              0.6666666666666666,
              "#ed7953"
             ],
             [
              0.7777777777777778,
              "#fb9f3a"
             ],
             [
              0.8888888888888888,
              "#fdca26"
             ],
             [
              1,
              "#f0f921"
             ]
            ],
            "type": "histogram2dcontour"
           }
          ],
          "mesh3d": [
           {
            "colorbar": {
             "outlinewidth": 0,
             "ticks": ""
            },
            "type": "mesh3d"
           }
          ],
          "parcoords": [
           {
            "line": {
             "colorbar": {
              "outlinewidth": 0,
              "ticks": ""
             }
            },
            "type": "parcoords"
           }
          ],
          "pie": [
           {
            "automargin": true,
            "type": "pie"
           }
          ],
          "scatter": [
           {
            "fillpattern": {
             "fillmode": "overlay",
             "size": 10,
             "solidity": 0.2
            },
            "type": "scatter"
           }
          ],
          "scatter3d": [
           {
            "line": {
             "colorbar": {
              "outlinewidth": 0,
              "ticks": ""
             }
            },
            "marker": {
             "colorbar": {
              "outlinewidth": 0,
              "ticks": ""
             }
            },
            "type": "scatter3d"
           }
          ],
          "scattercarpet": [
           {
            "marker": {
             "colorbar": {
              "outlinewidth": 0,
              "ticks": ""
             }
            },
            "type": "scattercarpet"
           }
          ],
          "scattergeo": [
           {
            "marker": {
             "colorbar": {
              "outlinewidth": 0,
              "ticks": ""
             }
            },
            "type": "scattergeo"
           }
          ],
          "scattergl": [
           {
            "marker": {
             "colorbar": {
              "outlinewidth": 0,
              "ticks": ""
             }
            },
            "type": "scattergl"
           }
          ],
          "scattermap": [
           {
            "marker": {
             "colorbar": {
              "outlinewidth": 0,
              "ticks": ""
             }
            },
            "type": "scattermap"
           }
          ],
          "scattermapbox": [
           {
            "marker": {
             "colorbar": {
              "outlinewidth": 0,
              "ticks": ""
             }
            },
            "type": "scattermapbox"
           }
          ],
          "scatterpolar": [
           {
            "marker": {
             "colorbar": {
              "outlinewidth": 0,
              "ticks": ""
             }
            },
            "type": "scatterpolar"
           }
          ],
          "scatterpolargl": [
           {
            "marker": {
             "colorbar": {
              "outlinewidth": 0,
              "ticks": ""
             }
            },
            "type": "scatterpolargl"
           }
          ],
          "scatterternary": [
           {
            "marker": {
             "colorbar": {
              "outlinewidth": 0,
              "ticks": ""
             }
            },
            "type": "scatterternary"
           }
          ],
          "surface": [
           {
            "colorbar": {
             "outlinewidth": 0,
             "ticks": ""
            },
            "colorscale": [
             [
              0,
              "#0d0887"
             ],
             [
              0.1111111111111111,
              "#46039f"
             ],
             [
              0.2222222222222222,
              "#7201a8"
             ],
             [
              0.3333333333333333,
              "#9c179e"
             ],
             [
              0.4444444444444444,
              "#bd3786"
             ],
             [
              0.5555555555555556,
              "#d8576b"
             ],
             [
              0.6666666666666666,
              "#ed7953"
             ],
             [
              0.7777777777777778,
              "#fb9f3a"
             ],
             [
              0.8888888888888888,
              "#fdca26"
             ],
             [
              1,
              "#f0f921"
             ]
            ],
            "type": "surface"
           }
          ],
          "table": [
           {
            "cells": {
             "fill": {
              "color": "#EBF0F8"
             },
             "line": {
              "color": "white"
             }
            },
            "header": {
             "fill": {
              "color": "#C8D4E3"
             },
             "line": {
              "color": "white"
             }
            },
            "type": "table"
           }
          ]
         },
         "layout": {
          "annotationdefaults": {
           "arrowcolor": "#2a3f5f",
           "arrowhead": 0,
           "arrowwidth": 1
          },
          "autotypenumbers": "strict",
          "coloraxis": {
           "colorbar": {
            "outlinewidth": 0,
            "ticks": ""
           }
          },
          "colorscale": {
           "diverging": [
            [
             0,
             "#8e0152"
            ],
            [
             0.1,
             "#c51b7d"
            ],
            [
             0.2,
             "#de77ae"
            ],
            [
             0.3,
             "#f1b6da"
            ],
            [
             0.4,
             "#fde0ef"
            ],
            [
             0.5,
             "#f7f7f7"
            ],
            [
             0.6,
             "#e6f5d0"
            ],
            [
             0.7,
             "#b8e186"
            ],
            [
             0.8,
             "#7fbc41"
            ],
            [
             0.9,
             "#4d9221"
            ],
            [
             1,
             "#276419"
            ]
           ],
           "sequential": [
            [
             0,
             "#0d0887"
            ],
            [
             0.1111111111111111,
             "#46039f"
            ],
            [
             0.2222222222222222,
             "#7201a8"
            ],
            [
             0.3333333333333333,
             "#9c179e"
            ],
            [
             0.4444444444444444,
             "#bd3786"
            ],
            [
             0.5555555555555556,
             "#d8576b"
            ],
            [
             0.6666666666666666,
             "#ed7953"
            ],
            [
             0.7777777777777778,
             "#fb9f3a"
            ],
            [
             0.8888888888888888,
             "#fdca26"
            ],
            [
             1,
             "#f0f921"
            ]
           ],
           "sequentialminus": [
            [
             0,
             "#0d0887"
            ],
            [
             0.1111111111111111,
             "#46039f"
            ],
            [
             0.2222222222222222,
             "#7201a8"
            ],
            [
             0.3333333333333333,
             "#9c179e"
            ],
            [
             0.4444444444444444,
             "#bd3786"
            ],
            [
             0.5555555555555556,
             "#d8576b"
            ],
            [
             0.6666666666666666,
             "#ed7953"
            ],
            [
             0.7777777777777778,
             "#fb9f3a"
            ],
            [
             0.8888888888888888,
             "#fdca26"
            ],
            [
             1,
             "#f0f921"
            ]
           ]
          },
          "colorway": [
           "#636efa",
           "#EF553B",
           "#00cc96",
           "#ab63fa",
           "#FFA15A",
           "#19d3f3",
           "#FF6692",
           "#B6E880",
           "#FF97FF",
           "#FECB52"
          ],
          "font": {
           "color": "#2a3f5f"
          },
          "geo": {
           "bgcolor": "white",
           "lakecolor": "white",
           "landcolor": "#E5ECF6",
           "showlakes": true,
           "showland": true,
           "subunitcolor": "white"
          },
          "hoverlabel": {
           "align": "left"
          },
          "hovermode": "closest",
          "mapbox": {
           "style": "light"
          },
          "paper_bgcolor": "white",
          "plot_bgcolor": "#E5ECF6",
          "polar": {
           "angularaxis": {
            "gridcolor": "white",
            "linecolor": "white",
            "ticks": ""
           },
           "bgcolor": "#E5ECF6",
           "radialaxis": {
            "gridcolor": "white",
            "linecolor": "white",
            "ticks": ""
           }
          },
          "scene": {
           "xaxis": {
            "backgroundcolor": "#E5ECF6",
            "gridcolor": "white",
            "gridwidth": 2,
            "linecolor": "white",
            "showbackground": true,
            "ticks": "",
            "zerolinecolor": "white"
           },
           "yaxis": {
            "backgroundcolor": "#E5ECF6",
            "gridcolor": "white",
            "gridwidth": 2,
            "linecolor": "white",
            "showbackground": true,
            "ticks": "",
            "zerolinecolor": "white"
           },
           "zaxis": {
            "backgroundcolor": "#E5ECF6",
            "gridcolor": "white",
            "gridwidth": 2,
            "linecolor": "white",
            "showbackground": true,
            "ticks": "",
            "zerolinecolor": "white"
           }
          },
          "shapedefaults": {
           "line": {
            "color": "#2a3f5f"
           }
          },
          "ternary": {
           "aaxis": {
            "gridcolor": "white",
            "linecolor": "white",
            "ticks": ""
           },
           "baxis": {
            "gridcolor": "white",
            "linecolor": "white",
            "ticks": ""
           },
           "bgcolor": "#E5ECF6",
           "caxis": {
            "gridcolor": "white",
            "linecolor": "white",
            "ticks": ""
           }
          },
          "title": {
           "x": 0.05
          },
          "xaxis": {
           "automargin": true,
           "gridcolor": "white",
           "linecolor": "white",
           "ticks": "",
           "title": {
            "standoff": 15
           },
           "zerolinecolor": "white",
           "zerolinewidth": 2
          },
          "yaxis": {
           "automargin": true,
           "gridcolor": "white",
           "linecolor": "white",
           "ticks": "",
           "title": {
            "standoff": 15
           },
           "zerolinecolor": "white",
           "zerolinewidth": 2
          }
         }
        },
        "xaxis": {
         "anchor": "y",
         "domain": [
          0,
          1
         ],
         "title": {
          "text": "Zone"
         }
        },
        "yaxis": {
         "anchor": "x",
         "domain": [
          0,
          1
         ],
         "title": {
          "text": "n_trips"
         }
        }
       }
      }
     },
     "metadata": {},
     "output_type": "display_data"
    }
   ],
   "source": [
    "import plotly.express as px\n",
    "fig = px.bar(\n",
    "    agg,\n",
    "    x='Zone',\n",
    "    y='n_trips', \n",
    ")\n",
    "fig.show()"
   ]
  },
  {
   "cell_type": "code",
   "execution_count": null,
   "id": "f00f5ae3",
   "metadata": {},
   "outputs": [],
   "source": []
  }
 ],
 "metadata": {
  "kernelspec": {
   "display_name": "streamlit",
   "language": "python",
   "name": "python3"
  },
  "language_info": {
   "codemirror_mode": {
    "name": "ipython",
    "version": 3
   },
   "file_extension": ".py",
   "mimetype": "text/x-python",
   "name": "python",
   "nbconvert_exporter": "python",
   "pygments_lexer": "ipython3",
   "version": "3.10.16"
  }
 },
 "nbformat": 4,
 "nbformat_minor": 5
}
