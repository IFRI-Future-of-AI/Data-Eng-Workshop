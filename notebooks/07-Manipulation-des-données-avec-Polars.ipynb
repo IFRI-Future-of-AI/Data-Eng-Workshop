{
 "cells": [
  {
   "cell_type": "markdown",
   "id": "aa5d873e",
   "metadata": {},
   "source": [
    "# Notebook — Introduction pratique à **Polars** pour la transformation de données 🧭✨\n",
    "Un petit notebook concis pour montrer comment lire, transformer, agréger, joindre et sauvegarder des jeux de données NYC taxi avec **Polars** — rapide, mémoire-friendly et prêt pour la production. 🚀\n",
    "\n",
    "## 0. Prérequis\n"
   ]
  },
  {
   "cell_type": "code",
   "execution_count": null,
   "id": "b47e8f3d",
   "metadata": {},
   "outputs": [],
   "source": [
    "!  pip install polars pyarrow requests pandas openpyxl"
   ]
  },
  {
   "cell_type": "markdown",
   "id": "be670edf",
   "metadata": {},
   "source": [
    "## 1. Lire les fichiers avec Polars"
   ]
  },
  {
   "cell_type": "code",
   "execution_count": null,
   "id": "ff94a6d8",
   "metadata": {},
   "outputs": [],
   "source": [
    "import polars as pl\n",
    "trip_path = './../python_project/data/yellow_tripdata/2025-01.parquet'\n",
    "zones_path = './../python_project/data/yellow_tripdata/taxi_zones.parquet'\n",
    "# lecture (format parquet + csv)\n",
    "df = pl.read_parquet(trip_path, infer_schema_length=10000)\n",
    "zones = pl.read_parquet(zones_path)"
   ]
  },
  {
   "cell_type": "code",
   "execution_count": 26,
   "id": "363e4c9e",
   "metadata": {},
   "outputs": [
    {
     "data": {
      "text/plain": [
       "(3475226, 20)"
      ]
     },
     "execution_count": 26,
     "metadata": {},
     "output_type": "execute_result"
    }
   ],
   "source": [
    "# aperçu et schéma\n",
    "df.shape"
   ]
  },
  {
   "cell_type": "code",
   "execution_count": 27,
   "id": "c20f5373",
   "metadata": {},
   "outputs": [
    {
     "data": {
      "text/plain": [
       "Schema([('VendorID', Int32),\n",
       "        ('tpep_pickup_datetime', Datetime(time_unit='us', time_zone=None)),\n",
       "        ('tpep_dropoff_datetime', Datetime(time_unit='us', time_zone=None)),\n",
       "        ('passenger_count', Int64),\n",
       "        ('trip_distance', Float64),\n",
       "        ('RatecodeID', Int64),\n",
       "        ('store_and_fwd_flag', String),\n",
       "        ('PULocationID', Int32),\n",
       "        ('DOLocationID', Int32),\n",
       "        ('payment_type', Int64),\n",
       "        ('fare_amount', Float64),\n",
       "        ('extra', Float64),\n",
       "        ('mta_tax', Float64),\n",
       "        ('tip_amount', Float64),\n",
       "        ('tolls_amount', Float64),\n",
       "        ('improvement_surcharge', Float64),\n",
       "        ('total_amount', Float64),\n",
       "        ('congestion_surcharge', Float64),\n",
       "        ('Airport_fee', Float64),\n",
       "        ('cbd_congestion_fee', Float64)])"
      ]
     },
     "execution_count": 27,
     "metadata": {},
     "output_type": "execute_result"
    }
   ],
   "source": [
    "df.schema"
   ]
  },
  {
   "cell_type": "code",
   "execution_count": 8,
   "id": "7ac12fb6",
   "metadata": {},
   "outputs": [
    {
     "data": {
      "text/plain": [
       "['VendorID',\n",
       " 'tpep_pickup_datetime',\n",
       " 'tpep_dropoff_datetime',\n",
       " 'passenger_count',\n",
       " 'trip_distance',\n",
       " 'RatecodeID',\n",
       " 'store_and_fwd_flag',\n",
       " 'PULocationID',\n",
       " 'DOLocationID',\n",
       " 'payment_type',\n",
       " 'fare_amount',\n",
       " 'extra',\n",
       " 'mta_tax',\n",
       " 'tip_amount',\n",
       " 'tolls_amount',\n",
       " 'improvement_surcharge',\n",
       " 'total_amount',\n",
       " 'congestion_surcharge',\n",
       " 'Airport_fee',\n",
       " 'cbd_congestion_fee']"
      ]
     },
     "execution_count": 8,
     "metadata": {},
     "output_type": "execute_result"
    }
   ],
   "source": [
    "df.columns"
   ]
  },
  {
   "cell_type": "code",
   "execution_count": 9,
   "id": "e47a9b9b",
   "metadata": {},
   "outputs": [
    {
     "data": {
      "text/html": [
       "<div><style>\n",
       ".dataframe > thead > tr,\n",
       ".dataframe > tbody > tr {\n",
       "  text-align: right;\n",
       "  white-space: pre-wrap;\n",
       "}\n",
       "</style>\n",
       "<small>shape: (5, 20)</small><table border=\"1\" class=\"dataframe\"><thead><tr><th>VendorID</th><th>tpep_pickup_datetime</th><th>tpep_dropoff_datetime</th><th>passenger_count</th><th>trip_distance</th><th>RatecodeID</th><th>store_and_fwd_flag</th><th>PULocationID</th><th>DOLocationID</th><th>payment_type</th><th>fare_amount</th><th>extra</th><th>mta_tax</th><th>tip_amount</th><th>tolls_amount</th><th>improvement_surcharge</th><th>total_amount</th><th>congestion_surcharge</th><th>Airport_fee</th><th>cbd_congestion_fee</th></tr><tr><td>i32</td><td>datetime[μs]</td><td>datetime[μs]</td><td>i64</td><td>f64</td><td>i64</td><td>str</td><td>i32</td><td>i32</td><td>i64</td><td>f64</td><td>f64</td><td>f64</td><td>f64</td><td>f64</td><td>f64</td><td>f64</td><td>f64</td><td>f64</td><td>f64</td></tr></thead><tbody><tr><td>1</td><td>2025-01-01 00:18:38</td><td>2025-01-01 00:26:59</td><td>1</td><td>1.6</td><td>1</td><td>&quot;N&quot;</td><td>229</td><td>237</td><td>1</td><td>10.0</td><td>3.5</td><td>0.5</td><td>3.0</td><td>0.0</td><td>1.0</td><td>18.0</td><td>2.5</td><td>0.0</td><td>0.0</td></tr><tr><td>1</td><td>2025-01-01 00:32:40</td><td>2025-01-01 00:35:13</td><td>1</td><td>0.5</td><td>1</td><td>&quot;N&quot;</td><td>236</td><td>237</td><td>1</td><td>5.1</td><td>3.5</td><td>0.5</td><td>2.02</td><td>0.0</td><td>1.0</td><td>12.12</td><td>2.5</td><td>0.0</td><td>0.0</td></tr><tr><td>1</td><td>2025-01-01 00:44:04</td><td>2025-01-01 00:46:01</td><td>1</td><td>0.6</td><td>1</td><td>&quot;N&quot;</td><td>141</td><td>141</td><td>1</td><td>5.1</td><td>3.5</td><td>0.5</td><td>2.0</td><td>0.0</td><td>1.0</td><td>12.1</td><td>2.5</td><td>0.0</td><td>0.0</td></tr><tr><td>2</td><td>2025-01-01 00:14:27</td><td>2025-01-01 00:20:01</td><td>3</td><td>0.52</td><td>1</td><td>&quot;N&quot;</td><td>244</td><td>244</td><td>2</td><td>7.2</td><td>1.0</td><td>0.5</td><td>0.0</td><td>0.0</td><td>1.0</td><td>9.7</td><td>0.0</td><td>0.0</td><td>0.0</td></tr><tr><td>2</td><td>2025-01-01 00:21:34</td><td>2025-01-01 00:25:06</td><td>3</td><td>0.66</td><td>1</td><td>&quot;N&quot;</td><td>244</td><td>116</td><td>2</td><td>5.8</td><td>1.0</td><td>0.5</td><td>0.0</td><td>0.0</td><td>1.0</td><td>8.3</td><td>0.0</td><td>0.0</td><td>0.0</td></tr></tbody></table></div>"
      ],
      "text/plain": [
       "shape: (5, 20)\n",
       "┌──────────┬───────────┬───────────┬───────────┬───┬───────────┬───────────┬───────────┬───────────┐\n",
       "│ VendorID ┆ tpep_pick ┆ tpep_drop ┆ passenger ┆ … ┆ total_amo ┆ congestio ┆ Airport_f ┆ cbd_conge │\n",
       "│ ---      ┆ up_dateti ┆ off_datet ┆ _count    ┆   ┆ unt       ┆ n_surchar ┆ ee        ┆ stion_fee │\n",
       "│ i32      ┆ me        ┆ ime       ┆ ---       ┆   ┆ ---       ┆ ge        ┆ ---       ┆ ---       │\n",
       "│          ┆ ---       ┆ ---       ┆ i64       ┆   ┆ f64       ┆ ---       ┆ f64       ┆ f64       │\n",
       "│          ┆ datetime[ ┆ datetime[ ┆           ┆   ┆           ┆ f64       ┆           ┆           │\n",
       "│          ┆ μs]       ┆ μs]       ┆           ┆   ┆           ┆           ┆           ┆           │\n",
       "╞══════════╪═══════════╪═══════════╪═══════════╪═══╪═══════════╪═══════════╪═══════════╪═══════════╡\n",
       "│ 1        ┆ 2025-01-0 ┆ 2025-01-0 ┆ 1         ┆ … ┆ 18.0      ┆ 2.5       ┆ 0.0       ┆ 0.0       │\n",
       "│          ┆ 1         ┆ 1         ┆           ┆   ┆           ┆           ┆           ┆           │\n",
       "│          ┆ 00:18:38  ┆ 00:26:59  ┆           ┆   ┆           ┆           ┆           ┆           │\n",
       "│ 1        ┆ 2025-01-0 ┆ 2025-01-0 ┆ 1         ┆ … ┆ 12.12     ┆ 2.5       ┆ 0.0       ┆ 0.0       │\n",
       "│          ┆ 1         ┆ 1         ┆           ┆   ┆           ┆           ┆           ┆           │\n",
       "│          ┆ 00:32:40  ┆ 00:35:13  ┆           ┆   ┆           ┆           ┆           ┆           │\n",
       "│ 1        ┆ 2025-01-0 ┆ 2025-01-0 ┆ 1         ┆ … ┆ 12.1      ┆ 2.5       ┆ 0.0       ┆ 0.0       │\n",
       "│          ┆ 1         ┆ 1         ┆           ┆   ┆           ┆           ┆           ┆           │\n",
       "│          ┆ 00:44:04  ┆ 00:46:01  ┆           ┆   ┆           ┆           ┆           ┆           │\n",
       "│ 2        ┆ 2025-01-0 ┆ 2025-01-0 ┆ 3         ┆ … ┆ 9.7       ┆ 0.0       ┆ 0.0       ┆ 0.0       │\n",
       "│          ┆ 1         ┆ 1         ┆           ┆   ┆           ┆           ┆           ┆           │\n",
       "│          ┆ 00:14:27  ┆ 00:20:01  ┆           ┆   ┆           ┆           ┆           ┆           │\n",
       "│ 2        ┆ 2025-01-0 ┆ 2025-01-0 ┆ 3         ┆ … ┆ 8.3       ┆ 0.0       ┆ 0.0       ┆ 0.0       │\n",
       "│          ┆ 1         ┆ 1         ┆           ┆   ┆           ┆           ┆           ┆           │\n",
       "│          ┆ 00:21:34  ┆ 00:25:06  ┆           ┆   ┆           ┆           ┆           ┆           │\n",
       "└──────────┴───────────┴───────────┴───────────┴───┴───────────┴───────────┴───────────┴───────────┘"
      ]
     },
     "execution_count": 9,
     "metadata": {},
     "output_type": "execute_result"
    }
   ],
   "source": [
    "df.head(5)"
   ]
  },
  {
   "cell_type": "markdown",
   "id": "896bd0a8",
   "metadata": {},
   "source": [
    "## 2. Nettoyage minimal & cast de types (`with_columns`)"
   ]
  },
  {
   "cell_type": "code",
   "execution_count": 28,
   "id": "646bbd2f",
   "metadata": {},
   "outputs": [
    {
     "data": {
      "text/html": [
       "<div><style>\n",
       ".dataframe > thead > tr,\n",
       ".dataframe > tbody > tr {\n",
       "  text-align: right;\n",
       "  white-space: pre-wrap;\n",
       "}\n",
       "</style>\n",
       "<small>shape: (3_475_226, 23)</small><table border=\"1\" class=\"dataframe\"><thead><tr><th>VendorID</th><th>tpep_pickup_datetime</th><th>tpep_dropoff_datetime</th><th>passenger_count</th><th>trip_distance</th><th>RatecodeID</th><th>store_and_fwd_flag</th><th>PULocationID</th><th>DOLocationID</th><th>payment_type</th><th>fare_amount</th><th>extra</th><th>mta_tax</th><th>tip_amount</th><th>tolls_amount</th><th>improvement_surcharge</th><th>total_amount</th><th>congestion_surcharge</th><th>Airport_fee</th><th>cbd_congestion_fee</th><th>pickup_datetime</th><th>pickup_datetime_str</th><th>dropoff_datetime</th></tr><tr><td>i32</td><td>datetime[μs]</td><td>datetime[μs]</td><td>i8</td><td>f32</td><td>i64</td><td>str</td><td>i32</td><td>i32</td><td>i64</td><td>f32</td><td>f64</td><td>f64</td><td>f32</td><td>f64</td><td>f64</td><td>f32</td><td>f64</td><td>f64</td><td>f64</td><td>datetime[μs]</td><td>str</td><td>datetime[μs]</td></tr></thead><tbody><tr><td>1</td><td>2025-01-01 00:18:38</td><td>2025-01-01 00:26:59</td><td>1</td><td>1.6</td><td>1</td><td>&quot;N&quot;</td><td>229</td><td>237</td><td>1</td><td>10.0</td><td>3.5</td><td>0.5</td><td>3.0</td><td>0.0</td><td>1.0</td><td>18.0</td><td>2.5</td><td>0.0</td><td>0.0</td><td>2025-01-01 00:18:38</td><td>&quot;2025-01-01&quot;</td><td>2025-01-01 00:26:59</td></tr><tr><td>1</td><td>2025-01-01 00:32:40</td><td>2025-01-01 00:35:13</td><td>1</td><td>0.5</td><td>1</td><td>&quot;N&quot;</td><td>236</td><td>237</td><td>1</td><td>5.1</td><td>3.5</td><td>0.5</td><td>2.02</td><td>0.0</td><td>1.0</td><td>12.12</td><td>2.5</td><td>0.0</td><td>0.0</td><td>2025-01-01 00:32:40</td><td>&quot;2025-01-01&quot;</td><td>2025-01-01 00:35:13</td></tr><tr><td>1</td><td>2025-01-01 00:44:04</td><td>2025-01-01 00:46:01</td><td>1</td><td>0.6</td><td>1</td><td>&quot;N&quot;</td><td>141</td><td>141</td><td>1</td><td>5.1</td><td>3.5</td><td>0.5</td><td>2.0</td><td>0.0</td><td>1.0</td><td>12.1</td><td>2.5</td><td>0.0</td><td>0.0</td><td>2025-01-01 00:44:04</td><td>&quot;2025-01-01&quot;</td><td>2025-01-01 00:46:01</td></tr><tr><td>2</td><td>2025-01-01 00:14:27</td><td>2025-01-01 00:20:01</td><td>3</td><td>0.52</td><td>1</td><td>&quot;N&quot;</td><td>244</td><td>244</td><td>2</td><td>7.2</td><td>1.0</td><td>0.5</td><td>0.0</td><td>0.0</td><td>1.0</td><td>9.7</td><td>0.0</td><td>0.0</td><td>0.0</td><td>2025-01-01 00:14:27</td><td>&quot;2025-01-01&quot;</td><td>2025-01-01 00:20:01</td></tr><tr><td>2</td><td>2025-01-01 00:21:34</td><td>2025-01-01 00:25:06</td><td>3</td><td>0.66</td><td>1</td><td>&quot;N&quot;</td><td>244</td><td>116</td><td>2</td><td>5.8</td><td>1.0</td><td>0.5</td><td>0.0</td><td>0.0</td><td>1.0</td><td>8.3</td><td>0.0</td><td>0.0</td><td>0.0</td><td>2025-01-01 00:21:34</td><td>&quot;2025-01-01&quot;</td><td>2025-01-01 00:25:06</td></tr><tr><td>&hellip;</td><td>&hellip;</td><td>&hellip;</td><td>&hellip;</td><td>&hellip;</td><td>&hellip;</td><td>&hellip;</td><td>&hellip;</td><td>&hellip;</td><td>&hellip;</td><td>&hellip;</td><td>&hellip;</td><td>&hellip;</td><td>&hellip;</td><td>&hellip;</td><td>&hellip;</td><td>&hellip;</td><td>&hellip;</td><td>&hellip;</td><td>&hellip;</td><td>&hellip;</td><td>&hellip;</td><td>&hellip;</td></tr><tr><td>2</td><td>2025-01-31 23:01:48</td><td>2025-01-31 23:16:29</td><td>null</td><td>3.35</td><td>null</td><td>null</td><td>79</td><td>237</td><td>0</td><td>15.85</td><td>0.0</td><td>0.5</td><td>0.0</td><td>0.0</td><td>1.0</td><td>20.6</td><td>null</td><td>null</td><td>0.75</td><td>2025-01-31 23:01:48</td><td>&quot;2025-01-31&quot;</td><td>2025-01-31 23:16:29</td></tr><tr><td>2</td><td>2025-01-31 23:50:29</td><td>2025-02-01 00:17:27</td><td>null</td><td>8.73</td><td>null</td><td>null</td><td>161</td><td>116</td><td>0</td><td>28.139999</td><td>0.0</td><td>0.5</td><td>0.0</td><td>0.0</td><td>1.0</td><td>32.889999</td><td>null</td><td>null</td><td>0.75</td><td>2025-01-31 23:50:29</td><td>&quot;2025-01-31&quot;</td><td>2025-02-01 00:17:27</td></tr><tr><td>2</td><td>2025-01-31 23:26:59</td><td>2025-01-31 23:43:01</td><td>null</td><td>2.64</td><td>null</td><td>null</td><td>144</td><td>246</td><td>0</td><td>14.91</td><td>0.0</td><td>0.5</td><td>0.0</td><td>0.0</td><td>1.0</td><td>19.66</td><td>null</td><td>null</td><td>0.75</td><td>2025-01-31 23:26:59</td><td>&quot;2025-01-31&quot;</td><td>2025-01-31 23:43:01</td></tr><tr><td>2</td><td>2025-01-31 23:14:34</td><td>2025-01-31 23:34:52</td><td>null</td><td>3.16</td><td>null</td><td>null</td><td>142</td><td>107</td><td>0</td><td>17.549999</td><td>0.0</td><td>0.5</td><td>0.0</td><td>0.0</td><td>1.0</td><td>22.299999</td><td>null</td><td>null</td><td>0.75</td><td>2025-01-31 23:14:34</td><td>&quot;2025-01-31&quot;</td><td>2025-01-31 23:34:52</td></tr><tr><td>2</td><td>2025-01-31 23:56:42</td><td>2025-02-01 00:07:27</td><td>null</td><td>2.29</td><td>null</td><td>null</td><td>237</td><td>238</td><td>0</td><td>12.09</td><td>0.0</td><td>0.5</td><td>0.0</td><td>0.0</td><td>1.0</td><td>16.09</td><td>null</td><td>null</td><td>0.0</td><td>2025-01-31 23:56:42</td><td>&quot;2025-01-31&quot;</td><td>2025-02-01 00:07:27</td></tr></tbody></table></div>"
      ],
      "text/plain": [
       "shape: (3_475_226, 23)\n",
       "┌──────────┬───────────┬───────────┬───────────┬───┬───────────┬───────────┬───────────┬───────────┐\n",
       "│ VendorID ┆ tpep_pick ┆ tpep_drop ┆ passenger ┆ … ┆ cbd_conge ┆ pickup_da ┆ pickup_da ┆ dropoff_d │\n",
       "│ ---      ┆ up_dateti ┆ off_datet ┆ _count    ┆   ┆ stion_fee ┆ tetime    ┆ tetime_st ┆ atetime   │\n",
       "│ i32      ┆ me        ┆ ime       ┆ ---       ┆   ┆ ---       ┆ ---       ┆ r         ┆ ---       │\n",
       "│          ┆ ---       ┆ ---       ┆ i8        ┆   ┆ f64       ┆ datetime[ ┆ ---       ┆ datetime[ │\n",
       "│          ┆ datetime[ ┆ datetime[ ┆           ┆   ┆           ┆ μs]       ┆ str       ┆ μs]       │\n",
       "│          ┆ μs]       ┆ μs]       ┆           ┆   ┆           ┆           ┆           ┆           │\n",
       "╞══════════╪═══════════╪═══════════╪═══════════╪═══╪═══════════╪═══════════╪═══════════╪═══════════╡\n",
       "│ 1        ┆ 2025-01-0 ┆ 2025-01-0 ┆ 1         ┆ … ┆ 0.0       ┆ 2025-01-0 ┆ 2025-01-0 ┆ 2025-01-0 │\n",
       "│          ┆ 1         ┆ 1         ┆           ┆   ┆           ┆ 1         ┆ 1         ┆ 1         │\n",
       "│          ┆ 00:18:38  ┆ 00:26:59  ┆           ┆   ┆           ┆ 00:18:38  ┆           ┆ 00:26:59  │\n",
       "│ 1        ┆ 2025-01-0 ┆ 2025-01-0 ┆ 1         ┆ … ┆ 0.0       ┆ 2025-01-0 ┆ 2025-01-0 ┆ 2025-01-0 │\n",
       "│          ┆ 1         ┆ 1         ┆           ┆   ┆           ┆ 1         ┆ 1         ┆ 1         │\n",
       "│          ┆ 00:32:40  ┆ 00:35:13  ┆           ┆   ┆           ┆ 00:32:40  ┆           ┆ 00:35:13  │\n",
       "│ 1        ┆ 2025-01-0 ┆ 2025-01-0 ┆ 1         ┆ … ┆ 0.0       ┆ 2025-01-0 ┆ 2025-01-0 ┆ 2025-01-0 │\n",
       "│          ┆ 1         ┆ 1         ┆           ┆   ┆           ┆ 1         ┆ 1         ┆ 1         │\n",
       "│          ┆ 00:44:04  ┆ 00:46:01  ┆           ┆   ┆           ┆ 00:44:04  ┆           ┆ 00:46:01  │\n",
       "│ 2        ┆ 2025-01-0 ┆ 2025-01-0 ┆ 3         ┆ … ┆ 0.0       ┆ 2025-01-0 ┆ 2025-01-0 ┆ 2025-01-0 │\n",
       "│          ┆ 1         ┆ 1         ┆           ┆   ┆           ┆ 1         ┆ 1         ┆ 1         │\n",
       "│          ┆ 00:14:27  ┆ 00:20:01  ┆           ┆   ┆           ┆ 00:14:27  ┆           ┆ 00:20:01  │\n",
       "│ 2        ┆ 2025-01-0 ┆ 2025-01-0 ┆ 3         ┆ … ┆ 0.0       ┆ 2025-01-0 ┆ 2025-01-0 ┆ 2025-01-0 │\n",
       "│          ┆ 1         ┆ 1         ┆           ┆   ┆           ┆ 1         ┆ 1         ┆ 1         │\n",
       "│          ┆ 00:21:34  ┆ 00:25:06  ┆           ┆   ┆           ┆ 00:21:34  ┆           ┆ 00:25:06  │\n",
       "│ …        ┆ …         ┆ …         ┆ …         ┆ … ┆ …         ┆ …         ┆ …         ┆ …         │\n",
       "│ 2        ┆ 2025-01-3 ┆ 2025-01-3 ┆ null      ┆ … ┆ 0.75      ┆ 2025-01-3 ┆ 2025-01-3 ┆ 2025-01-3 │\n",
       "│          ┆ 1         ┆ 1         ┆           ┆   ┆           ┆ 1         ┆ 1         ┆ 1         │\n",
       "│          ┆ 23:01:48  ┆ 23:16:29  ┆           ┆   ┆           ┆ 23:01:48  ┆           ┆ 23:16:29  │\n",
       "│ 2        ┆ 2025-01-3 ┆ 2025-02-0 ┆ null      ┆ … ┆ 0.75      ┆ 2025-01-3 ┆ 2025-01-3 ┆ 2025-02-0 │\n",
       "│          ┆ 1         ┆ 1         ┆           ┆   ┆           ┆ 1         ┆ 1         ┆ 1         │\n",
       "│          ┆ 23:50:29  ┆ 00:17:27  ┆           ┆   ┆           ┆ 23:50:29  ┆           ┆ 00:17:27  │\n",
       "│ 2        ┆ 2025-01-3 ┆ 2025-01-3 ┆ null      ┆ … ┆ 0.75      ┆ 2025-01-3 ┆ 2025-01-3 ┆ 2025-01-3 │\n",
       "│          ┆ 1         ┆ 1         ┆           ┆   ┆           ┆ 1         ┆ 1         ┆ 1         │\n",
       "│          ┆ 23:26:59  ┆ 23:43:01  ┆           ┆   ┆           ┆ 23:26:59  ┆           ┆ 23:43:01  │\n",
       "│ 2        ┆ 2025-01-3 ┆ 2025-01-3 ┆ null      ┆ … ┆ 0.75      ┆ 2025-01-3 ┆ 2025-01-3 ┆ 2025-01-3 │\n",
       "│          ┆ 1         ┆ 1         ┆           ┆   ┆           ┆ 1         ┆ 1         ┆ 1         │\n",
       "│          ┆ 23:14:34  ┆ 23:34:52  ┆           ┆   ┆           ┆ 23:14:34  ┆           ┆ 23:34:52  │\n",
       "│ 2        ┆ 2025-01-3 ┆ 2025-02-0 ┆ null      ┆ … ┆ 0.0       ┆ 2025-01-3 ┆ 2025-01-3 ┆ 2025-02-0 │\n",
       "│          ┆ 1         ┆ 1         ┆           ┆   ┆           ┆ 1         ┆ 1         ┆ 1         │\n",
       "│          ┆ 23:56:42  ┆ 00:07:27  ┆           ┆   ┆           ┆ 23:56:42  ┆           ┆ 00:07:27  │\n",
       "└──────────┴───────────┴───────────┴───────────┴───┴───────────┴───────────┴───────────┴───────────┘"
      ]
     },
     "execution_count": 28,
     "metadata": {},
     "output_type": "execute_result"
    }
   ],
   "source": [
    "\n",
    "df = df.with_columns([\n",
    "    # si les colonnes datetime sont des strings, str.strptime; sinon cast fonctionne si déjà datetime\n",
    "    pl.col(\"tpep_pickup_datetime\").alias(\"pickup_datetime\"),\n",
    "    pl.col(\"tpep_pickup_datetime\").dt.strftime(\"%Y-%m-%d\").alias(\"pickup_datetime_str\"),\n",
    "    pl.col(\"tpep_dropoff_datetime\").alias(\"dropoff_datetime\"),\n",
    "    pl.col(\"passenger_count\").cast(pl.Int8),\n",
    "    pl.col(\"trip_distance\").cast(pl.Float32),\n",
    "    pl.col(\"fare_amount\").cast(pl.Float32),\n",
    "    pl.col(\"tip_amount\").cast(pl.Float32),\n",
    "    pl.col(\"total_amount\").cast(pl.Float32),\n",
    "])\n",
    "df"
   ]
  },
  {
   "cell_type": "markdown",
   "id": "13f33744",
   "metadata": {},
   "source": [
    "# 3. Filtrage basique"
   ]
  },
  {
   "cell_type": "code",
   "execution_count": 29,
   "id": "df5338dc",
   "metadata": {},
   "outputs": [],
   "source": [
    "valid = df.filter(\n",
    "    pl.col(\"passenger_count\") > 0, \n",
    "    pl.col(\"trip_distance\") > 0, \n",
    "    pl.col(\"fare_amount\") > 0\n",
    ")"
   ]
  },
  {
   "cell_type": "code",
   "execution_count": 30,
   "id": "d0b2e46a",
   "metadata": {},
   "outputs": [
    {
     "data": {
      "text/html": [
       "<div><style>\n",
       ".dataframe > thead > tr,\n",
       ".dataframe > tbody > tr {\n",
       "  text-align: right;\n",
       "  white-space: pre-wrap;\n",
       "}\n",
       "</style>\n",
       "<small>shape: (5, 6)</small><table border=\"1\" class=\"dataframe\"><thead><tr><th>pickup_datetime</th><th>dropoff_datetime</th><th>passenger_count</th><th>trip_distance</th><th>fare_amount</th><th>tip_amount</th></tr><tr><td>datetime[μs]</td><td>datetime[μs]</td><td>i8</td><td>f32</td><td>f32</td><td>f32</td></tr></thead><tbody><tr><td>2025-01-01 00:18:38</td><td>2025-01-01 00:26:59</td><td>1</td><td>1.6</td><td>10.0</td><td>3.0</td></tr><tr><td>2025-01-01 00:32:40</td><td>2025-01-01 00:35:13</td><td>1</td><td>0.5</td><td>5.1</td><td>2.02</td></tr><tr><td>2025-01-01 00:44:04</td><td>2025-01-01 00:46:01</td><td>1</td><td>0.6</td><td>5.1</td><td>2.0</td></tr><tr><td>2025-01-01 00:14:27</td><td>2025-01-01 00:20:01</td><td>3</td><td>0.52</td><td>7.2</td><td>0.0</td></tr><tr><td>2025-01-01 00:21:34</td><td>2025-01-01 00:25:06</td><td>3</td><td>0.66</td><td>5.8</td><td>0.0</td></tr></tbody></table></div>"
      ],
      "text/plain": [
       "shape: (5, 6)\n",
       "┌──────────────────┬──────────────────┬─────────────────┬───────────────┬─────────────┬────────────┐\n",
       "│ pickup_datetime  ┆ dropoff_datetime ┆ passenger_count ┆ trip_distance ┆ fare_amount ┆ tip_amount │\n",
       "│ ---              ┆ ---              ┆ ---             ┆ ---           ┆ ---         ┆ ---        │\n",
       "│ datetime[μs]     ┆ datetime[μs]     ┆ i8              ┆ f32           ┆ f32         ┆ f32        │\n",
       "╞══════════════════╪══════════════════╪═════════════════╪═══════════════╪═════════════╪════════════╡\n",
       "│ 2025-01-01       ┆ 2025-01-01       ┆ 1               ┆ 1.6           ┆ 10.0        ┆ 3.0        │\n",
       "│ 00:18:38         ┆ 00:26:59         ┆                 ┆               ┆             ┆            │\n",
       "│ 2025-01-01       ┆ 2025-01-01       ┆ 1               ┆ 0.5           ┆ 5.1         ┆ 2.02       │\n",
       "│ 00:32:40         ┆ 00:35:13         ┆                 ┆               ┆             ┆            │\n",
       "│ 2025-01-01       ┆ 2025-01-01       ┆ 1               ┆ 0.6           ┆ 5.1         ┆ 2.0        │\n",
       "│ 00:44:04         ┆ 00:46:01         ┆                 ┆               ┆             ┆            │\n",
       "│ 2025-01-01       ┆ 2025-01-01       ┆ 3               ┆ 0.52          ┆ 7.2         ┆ 0.0        │\n",
       "│ 00:14:27         ┆ 00:20:01         ┆                 ┆               ┆             ┆            │\n",
       "│ 2025-01-01       ┆ 2025-01-01       ┆ 3               ┆ 0.66          ┆ 5.8         ┆ 0.0        │\n",
       "│ 00:21:34         ┆ 00:25:06         ┆                 ┆               ┆             ┆            │\n",
       "└──────────────────┴──────────────────┴─────────────────┴───────────────┴─────────────┴────────────┘"
      ]
     },
     "execution_count": 30,
     "metadata": {},
     "output_type": "execute_result"
    }
   ],
   "source": [
    "valid.select([\n",
    "    \"pickup_datetime\",\"dropoff_datetime\",\"passenger_count\",\"trip_distance\",\"fare_amount\",\"tip_amount\"\n",
    "]).head(5)"
   ]
  },
  {
   "cell_type": "markdown",
   "id": "d1310725",
   "metadata": {},
   "source": [
    "## 5. Ajouter une colonne calculée (`with_columns`)"
   ]
  },
  {
   "cell_type": "code",
   "execution_count": 31,
   "id": "b9e1e948",
   "metadata": {},
   "outputs": [
    {
     "data": {
      "text/html": [
       "<div><style>\n",
       ".dataframe > thead > tr,\n",
       ".dataframe > tbody > tr {\n",
       "  text-align: right;\n",
       "  white-space: pre-wrap;\n",
       "}\n",
       "</style>\n",
       "<small>shape: (5, 3)</small><table border=\"1\" class=\"dataframe\"><thead><tr><th>fare_amount</th><th>tip_amount</th><th>tip_pct</th></tr><tr><td>f32</td><td>f32</td><td>f32</td></tr></thead><tbody><tr><td>10.0</td><td>3.0</td><td>0.3</td></tr><tr><td>5.1</td><td>2.02</td><td>0.396078</td></tr><tr><td>5.1</td><td>2.0</td><td>0.392157</td></tr><tr><td>7.2</td><td>0.0</td><td>0.0</td></tr><tr><td>5.8</td><td>0.0</td><td>0.0</td></tr></tbody></table></div>"
      ],
      "text/plain": [
       "shape: (5, 3)\n",
       "┌─────────────┬────────────┬──────────┐\n",
       "│ fare_amount ┆ tip_amount ┆ tip_pct  │\n",
       "│ ---         ┆ ---        ┆ ---      │\n",
       "│ f32         ┆ f32        ┆ f32      │\n",
       "╞═════════════╪════════════╪══════════╡\n",
       "│ 10.0        ┆ 3.0        ┆ 0.3      │\n",
       "│ 5.1         ┆ 2.02       ┆ 0.396078 │\n",
       "│ 5.1         ┆ 2.0        ┆ 0.392157 │\n",
       "│ 7.2         ┆ 0.0        ┆ 0.0      │\n",
       "│ 5.8         ┆ 0.0        ┆ 0.0      │\n",
       "└─────────────┴────────────┴──────────┘"
      ]
     },
     "execution_count": 31,
     "metadata": {},
     "output_type": "execute_result"
    }
   ],
   "source": [
    "valid = valid.with_columns([\n",
    "    (pl.col(\"tip_amount\") / pl.when(pl.col(\"fare_amount\") == 0).then(1).otherwise(pl.col(\"fare_amount\")))\n",
    "       .alias(\"tip_pct\")\n",
    "])\n",
    "valid.select([\"fare_amount\",\"tip_amount\",\"tip_pct\"]).head(5)"
   ]
  },
  {
   "cell_type": "markdown",
   "id": "962ddc39",
   "metadata": {},
   "source": [
    "## 6. Agrégations groupées (exemples courants)"
   ]
  },
  {
   "cell_type": "code",
   "execution_count": 32,
   "id": "0fca2f1b",
   "metadata": {},
   "outputs": [
    {
     "data": {
      "text/html": [
       "<div><style>\n",
       ".dataframe > thead > tr,\n",
       ".dataframe > tbody > tr {\n",
       "  text-align: right;\n",
       "  white-space: pre-wrap;\n",
       "}\n",
       "</style>\n",
       "<small>shape: (10, 6)</small><table border=\"1\" class=\"dataframe\"><thead><tr><th>PULocationID</th><th>n_trips</th><th>total_fare</th><th>avg_distance</th><th>avg_total</th><th>avg_tip_pct</th></tr><tr><td>i32</td><td>u32</td><td>f32</td><td>f32</td><td>f32</td><td>f32</td></tr></thead><tbody><tr><td>237</td><td>148137</td><td>1.7766e6</td><td>1.663004</td><td>19.822861</td><td>0.240521</td></tr><tr><td>161</td><td>146843</td><td>2205295.5</td><td>2.20357</td><td>24.236452</td><td>0.233579</td></tr><tr><td>236</td><td>137941</td><td>1.7255e6</td><td>1.802399</td><td>20.176727</td><td>0.235918</td></tr><tr><td>132</td><td>133734</td><td>8.389246e6</td><td>15.674957</td><td>81.066925</td><td>0.143188</td></tr><tr><td>186</td><td>108204</td><td>1.6636e6</td><td>2.187683</td><td>24.049044</td><td>0.222496</td></tr><tr><td>230</td><td>107546</td><td>1.8749e6</td><td>2.832681</td><td>27.150532</td><td>0.224038</td></tr><tr><td>162</td><td>105098</td><td>1.5389e6</td><td>2.182504</td><td>23.745417</td><td>0.236748</td></tr><tr><td>142</td><td>97611</td><td>1.3069e6</td><td>2.057632</td><td>21.579725</td><td>0.238151</td></tr><tr><td>138</td><td>85431</td><td>4.467556e6</td><td>9.624812</td><td>76.940147</td><td>0.218911</td></tr><tr><td>163</td><td>84672</td><td>1.2880e6</td><td>2.283259</td><td>24.319773</td><td>0.233046</td></tr></tbody></table></div>"
      ],
      "text/plain": [
       "shape: (10, 6)\n",
       "┌──────────────┬─────────┬────────────┬──────────────┬───────────┬─────────────┐\n",
       "│ PULocationID ┆ n_trips ┆ total_fare ┆ avg_distance ┆ avg_total ┆ avg_tip_pct │\n",
       "│ ---          ┆ ---     ┆ ---        ┆ ---          ┆ ---       ┆ ---         │\n",
       "│ i32          ┆ u32     ┆ f32        ┆ f32          ┆ f32       ┆ f32         │\n",
       "╞══════════════╪═════════╪════════════╪══════════════╪═══════════╪═════════════╡\n",
       "│ 237          ┆ 148137  ┆ 1.7766e6   ┆ 1.663004     ┆ 19.822861 ┆ 0.240521    │\n",
       "│ 161          ┆ 146843  ┆ 2205295.5  ┆ 2.20357      ┆ 24.236452 ┆ 0.233579    │\n",
       "│ 236          ┆ 137941  ┆ 1.7255e6   ┆ 1.802399     ┆ 20.176727 ┆ 0.235918    │\n",
       "│ 132          ┆ 133734  ┆ 8.389246e6 ┆ 15.674957    ┆ 81.066925 ┆ 0.143188    │\n",
       "│ 186          ┆ 108204  ┆ 1.6636e6   ┆ 2.187683     ┆ 24.049044 ┆ 0.222496    │\n",
       "│ 230          ┆ 107546  ┆ 1.8749e6   ┆ 2.832681     ┆ 27.150532 ┆ 0.224038    │\n",
       "│ 162          ┆ 105098  ┆ 1.5389e6   ┆ 2.182504     ┆ 23.745417 ┆ 0.236748    │\n",
       "│ 142          ┆ 97611   ┆ 1.3069e6   ┆ 2.057632     ┆ 21.579725 ┆ 0.238151    │\n",
       "│ 138          ┆ 85431   ┆ 4.467556e6 ┆ 9.624812     ┆ 76.940147 ┆ 0.218911    │\n",
       "│ 163          ┆ 84672   ┆ 1.2880e6   ┆ 2.283259     ┆ 24.319773 ┆ 0.233046    │\n",
       "└──────────────┴─────────┴────────────┴──────────────┴───────────┴─────────────┘"
      ]
     },
     "execution_count": 32,
     "metadata": {},
     "output_type": "execute_result"
    }
   ],
   "source": [
    "# agrégation par PULocationID : nombre de trajets, distance moyenne, montant moyen, tip% moyen\n",
    "agg = valid.group_by(\n",
    "        [\n",
    "            \"PULocationID\"\n",
    "        ]\n",
    "        ).agg(\n",
    "        [\n",
    "        pl.len().alias(\"n_trips\"),\n",
    "        pl.sum(\"fare_amount\").alias(\"total_fare\"),\n",
    "        pl.mean(\"trip_distance\").alias(\"avg_distance\"),\n",
    "        pl.mean(\"total_amount\").alias(\"avg_total\"),\n",
    "        pl.mean(\"tip_pct\").alias(\"avg_tip_pct\"),\n",
    "    ]).sort(\n",
    "        \"n_trips\", descending=True\n",
    "    )  # trier par nombre de trajets décroissant\n",
    "\n",
    "agg.head(10)"
   ]
  },
  {
   "cell_type": "markdown",
   "id": "694be562",
   "metadata": {},
   "source": [
    "## 7. Jointure avec la table des zones (lookup)"
   ]
  },
  {
   "cell_type": "code",
   "execution_count": 22,
   "id": "9732a492",
   "metadata": {},
   "outputs": [
    {
     "data": {
      "text/html": [
       "<div><style>\n",
       ".dataframe > thead > tr,\n",
       ".dataframe > tbody > tr {\n",
       "  text-align: right;\n",
       "  white-space: pre-wrap;\n",
       "}\n",
       "</style>\n",
       "<small>shape: (10, 6)</small><table border=\"1\" class=\"dataframe\"><thead><tr><th>PULocationID</th><th>Zone</th><th>Borough</th><th>n_trips</th><th>avg_total</th><th>avg_tip_pct</th></tr><tr><td>i32</td><td>str</td><td>str</td><td>u32</td><td>f32</td><td>f32</td></tr></thead><tbody><tr><td>237</td><td>&quot;Upper East Side South&quot;</td><td>&quot;Manhattan&quot;</td><td>148137</td><td>19.822861</td><td>0.240521</td></tr><tr><td>161</td><td>&quot;Midtown Center&quot;</td><td>&quot;Manhattan&quot;</td><td>146843</td><td>24.236452</td><td>0.233579</td></tr><tr><td>236</td><td>&quot;Upper East Side North&quot;</td><td>&quot;Manhattan&quot;</td><td>137941</td><td>20.176727</td><td>0.235918</td></tr><tr><td>132</td><td>&quot;JFK Airport&quot;</td><td>&quot;Queens&quot;</td><td>133734</td><td>81.066925</td><td>0.143188</td></tr><tr><td>186</td><td>&quot;Penn Station/Madison Sq West&quot;</td><td>&quot;Manhattan&quot;</td><td>108204</td><td>24.049044</td><td>0.222496</td></tr><tr><td>230</td><td>&quot;Times Sq/Theatre District&quot;</td><td>&quot;Manhattan&quot;</td><td>107546</td><td>27.150532</td><td>0.224038</td></tr><tr><td>162</td><td>&quot;Midtown East&quot;</td><td>&quot;Manhattan&quot;</td><td>105098</td><td>23.745417</td><td>0.236748</td></tr><tr><td>142</td><td>&quot;Lincoln Square East&quot;</td><td>&quot;Manhattan&quot;</td><td>97611</td><td>21.579725</td><td>0.238151</td></tr><tr><td>138</td><td>&quot;LaGuardia Airport&quot;</td><td>&quot;Queens&quot;</td><td>85431</td><td>76.940147</td><td>0.218911</td></tr><tr><td>163</td><td>&quot;Midtown North&quot;</td><td>&quot;Manhattan&quot;</td><td>84672</td><td>24.319773</td><td>0.233046</td></tr></tbody></table></div>"
      ],
      "text/plain": [
       "shape: (10, 6)\n",
       "┌──────────────┬──────────────────────────────┬───────────┬─────────┬───────────┬─────────────┐\n",
       "│ PULocationID ┆ Zone                         ┆ Borough   ┆ n_trips ┆ avg_total ┆ avg_tip_pct │\n",
       "│ ---          ┆ ---                          ┆ ---       ┆ ---     ┆ ---       ┆ ---         │\n",
       "│ i32          ┆ str                          ┆ str       ┆ u32     ┆ f32       ┆ f32         │\n",
       "╞══════════════╪══════════════════════════════╪═══════════╪═════════╪═══════════╪═════════════╡\n",
       "│ 237          ┆ Upper East Side South        ┆ Manhattan ┆ 148137  ┆ 19.822861 ┆ 0.240521    │\n",
       "│ 161          ┆ Midtown Center               ┆ Manhattan ┆ 146843  ┆ 24.236452 ┆ 0.233579    │\n",
       "│ 236          ┆ Upper East Side North        ┆ Manhattan ┆ 137941  ┆ 20.176727 ┆ 0.235918    │\n",
       "│ 132          ┆ JFK Airport                  ┆ Queens    ┆ 133734  ┆ 81.066925 ┆ 0.143188    │\n",
       "│ 186          ┆ Penn Station/Madison Sq West ┆ Manhattan ┆ 108204  ┆ 24.049044 ┆ 0.222496    │\n",
       "│ 230          ┆ Times Sq/Theatre District    ┆ Manhattan ┆ 107546  ┆ 27.150532 ┆ 0.224038    │\n",
       "│ 162          ┆ Midtown East                 ┆ Manhattan ┆ 105098  ┆ 23.745417 ┆ 0.236748    │\n",
       "│ 142          ┆ Lincoln Square East          ┆ Manhattan ┆ 97611   ┆ 21.579725 ┆ 0.238151    │\n",
       "│ 138          ┆ LaGuardia Airport            ┆ Queens    ┆ 85431   ┆ 76.940147 ┆ 0.218911    │\n",
       "│ 163          ┆ Midtown North                ┆ Manhattan ┆ 84672   ┆ 24.319773 ┆ 0.233046    │\n",
       "└──────────────┴──────────────────────────────┴───────────┴─────────┴───────────┴─────────────┘"
      ]
     },
     "execution_count": 22,
     "metadata": {},
     "output_type": "execute_result"
    }
   ],
   "source": [
    "# taxi_zone_lookup.csv contient typiquement : LocationID, Borough, Zone, service_zone\n",
    "# renommer LocationID pour joindre sur PULocationID\n",
    "zones = zones.rename({\"LocationID\": \"PULocationID\"})\n",
    "\n",
    "# assurez-vous des types (int / même dtype)\n",
    "zones = zones.with_columns(pl.col(\"PULocationID\").cast(pl.Int32))\n",
    "\n",
    "agg = agg.join(zones, on=\"PULocationID\", how=\"left\")\n",
    "agg.select([\"PULocationID\",\"Zone\",\"Borough\",\"n_trips\",\"avg_total\",\"avg_tip_pct\"]).head(10)"
   ]
  },
  {
   "cell_type": "markdown",
   "id": "109784a7",
   "metadata": {},
   "source": [
    "## 8. Sauvegarder les résultats (parquet / csv / xlsx)"
   ]
  },
  {
   "cell_type": "code",
   "execution_count": 24,
   "id": "bb307b87",
   "metadata": {},
   "outputs": [],
   "source": [
    "from pathlib import Path\n",
    "out_dir = Path(\"./outputs\")\n",
    "out_dir.mkdir(exist_ok=True)\n",
    "\n",
    "# parquet (recommandé pour volumes importants)\n",
    "agg.write_parquet(out_dir / \"agg_by_pu.parquet\")\n",
    "\n",
    "# csv\n",
    "agg.write_csv(out_dir / \"agg_by_pu.csv\")\n",
    "\n",
    "# xlsx -> conversion via pandas (openpyxl utilisé par pandas)\n",
    "import pandas as pd\n",
    "agg.to_pandas().to_excel(out_dir / \"agg_by_pu.xlsx\", index=False)"
   ]
  },
  {
   "cell_type": "code",
   "execution_count": null,
   "id": "05d97d1c",
   "metadata": {},
   "outputs": [],
   "source": []
  }
 ],
 "metadata": {
  "kernelspec": {
   "display_name": "streamlit",
   "language": "python",
   "name": "python3"
  },
  "language_info": {
   "codemirror_mode": {
    "name": "ipython",
    "version": 3
   },
   "file_extension": ".py",
   "mimetype": "text/x-python",
   "name": "python",
   "nbconvert_exporter": "python",
   "pygments_lexer": "ipython3",
   "version": "3.10.16"
  }
 },
 "nbformat": 4,
 "nbformat_minor": 5
}
