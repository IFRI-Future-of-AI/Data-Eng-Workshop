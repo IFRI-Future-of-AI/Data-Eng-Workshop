{
 "cells": [
  {
   "cell_type": "code",
   "execution_count": null,
   "id": "b47e8f3d",
   "metadata": {
    "vscode": {
     "languageId": "plaintext"
    }
   },
   "outputs": [],
   "source": []
  }
 ],
 "metadata": {
  "language_info": {
   "name": "python"
  }
 },
 "nbformat": 4,
 "nbformat_minor": 5
}
