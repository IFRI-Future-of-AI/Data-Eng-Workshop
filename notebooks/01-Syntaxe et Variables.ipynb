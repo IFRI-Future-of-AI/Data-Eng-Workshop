{
 "cells": [
  {
   "cell_type": "markdown",
   "id": "5f872562",
   "metadata": {},
   "source": [
    "# Syntaxe & notions fondamentales en Python\n",
    "\n",
    "\n",
    "> Objectif : rappeler ce qu'est Python, pourquoi *tout est objet* en Python, puis présenter la syntaxe et les notions de base indispensables pour des travaux en data.\n",
    "\n",
    "Ce notebook est conçu pour un TP court. Les cellules contiennent des explications concises suivies d'exemples exécutables.\n",
    "\n"
   ]
  },
  {
   "cell_type": "markdown",
   "id": "67143f18",
   "metadata": {},
   "source": [
    "## 1) C'est quoi Python ?\n",
    "\n",
    "Python est un langage de programmation interprété, haut niveau, dynamique et multi-paradigme (impératif, orienté objets, fonctionnel). Il est très utilisé en data science pour sa lisibilité et son écosystème (pandas, numpy, scikit-learn...).\n",
    "\n",
    "**Remarque importante** : en Python, *tout est un objet*. Les nombres, les chaînes, les fonctions, les classes — tout a un type et une identité (un emplacement en mémoire). Cela signifie qu'on peut manipuler les types au runtime, inspecter `type(...)` et `id(...)`, et attacher des méthodes aux objets via leurs classes.\n"
   ]
  },
  {
   "cell_type": "markdown",
   "id": "17bb693b",
   "metadata": {
    "vscode": {
     "languageId": "plaintext"
    }
   },
   "source": [
    "## 2) Exemples : objets et identité\n",
    "\n",
    "On montre que tout est objet : types, méthodes, identité (`id`).\n",
    "# Exemples : tout est objet"
   ]
  },
  {
   "cell_type": "code",
   "execution_count": 35,
   "id": "00b60467",
   "metadata": {
    "ExecuteTime": {
     "end_time": "2025-09-22T18:37:03.618220Z",
     "start_time": "2025-09-22T18:37:03.611040Z"
    }
   },
   "outputs": [
    {
     "name": "stdout",
     "output_type": "stream",
     "text": [
      "<class 'int'> <class 'str'> <class 'list'> <class 'function'>\n",
      "id(x)= 4341864512\n",
      "id(L)= 4413836544\n"
     ]
    }
   ],
   "source": [
    "x = 10\n",
    "s = \"hello\"\n",
    "L = [1, 2, 3]\n",
    "\n",
    "def f(a:int) -> int:\n",
    "    \"\"\"\n",
    "    This function takes an integer as input and returns the double of the input.\n",
    "\n",
    "    Args:\n",
    "        a (int): The input integer.\n",
    "\n",
    "    Returns:\n",
    "        int: The double of the input integer.\n",
    "    \"\"\"\n",
    "    return a * 2\n",
    "\n",
    "print(type(x), type(s), type(L), type(f))\n",
    "print(\"id(x)=\", id(x))\n",
    "print(\"id(L)=\", id(L))"
   ]
  },
  {
   "cell_type": "markdown",
   "id": "49387dac",
   "metadata": {},
   "source": [
    "## On peut inspecter des attributs et méthodes"
   ]
  },
  {
   "cell_type": "code",
   "execution_count": 36,
   "id": "0ca3856c",
   "metadata": {
    "ExecuteTime": {
     "end_time": "2025-09-22T18:37:08.801262Z",
     "start_time": "2025-09-22T18:37:08.781892Z"
    }
   },
   "outputs": [
    {
     "name": "stdout",
     "output_type": "stream",
     "text": [
      "str methods sample: ['__add__', '__class__', '__contains__', '__delattr__', '__dir__', '__doc__', '__eq__', '__format__']\n",
      "10\n",
      "['__annotations__', '__builtins__', '__call__', '__class__', '__closure__', '__code__', '__defaults__', '__delattr__', '__dict__', '__dir__', '__doc__', '__eq__', '__format__', '__ge__', '__get__', '__getattribute__', '__getstate__', '__globals__', '__gt__', '__hash__', '__init__', '__init_subclass__', '__kwdefaults__', '__le__', '__lt__', '__module__', '__name__', '__ne__', '__new__', '__qualname__', '__reduce__', '__reduce_ex__', '__repr__', '__setattr__', '__sizeof__', '__str__', '__subclasshook__', '__type_params__']\n"
     ]
    }
   ],
   "source": [
    "print(\"str methods sample:\", dir(s)[:8])\n",
    "\n",
    "# Fonctions aussi sont des objets (on peut les assigner)\n",
    "g = f\n",
    "print(g(5))\n",
    "# print(g.__name__)\n",
    "# print(g.__doc__)\n",
    "# print(g.__annotations__)\n",
    "# print(g.__code__)\n",
    "print(dir(g))"
   ]
  },
  {
   "cell_type": "markdown",
   "id": "74ea3852",
   "metadata": {},
   "source": [
    "## 3) Variables, types et annotations\n",
    "\n",
    "- Python est dynamiquement typé : la variable n'a pas de type fixe ; l'objet auquel elle réfère en a.\n",
    "- Les annotations de type (`x: int`) sont informatives et utiles pour les outils (mypy, IDE), mais n'empêchent pas l'affectation d'autres types à l'exécution.\n",
    "\n",
    "### Annotations et vérification runtime légère"
   ]
  },
  {
   "cell_type": "code",
   "execution_count": 37,
   "id": "934d2e3b",
   "metadata": {
    "ExecuteTime": {
     "end_time": "2025-09-22T18:37:10.634802Z",
     "start_time": "2025-09-22T18:37:10.630611Z"
    }
   },
   "outputs": [
    {
     "name": "stdout",
     "output_type": "stream",
     "text": [
      "42 <class 'int'>\n",
      "maintenant une string <class 'str'>\n",
      "True\n"
     ]
    }
   ],
   "source": [
    "x: int = 42\n",
    "print(x, type(x))\n",
    "\n",
    "x = \"maintenant une string\"\n",
    "print(x, type(x))\n",
    "\n",
    "# isinstance\n",
    "y = 3.14\n",
    "print(isinstance(y, float))"
   ]
  },
  {
   "cell_type": "markdown",
   "id": "f1ce3306",
   "metadata": {},
   "source": [
    "### Exemple de typing utile dans une fonction"
   ]
  },
  {
   "cell_type": "code",
   "execution_count": 38,
   "id": "4fc68d20",
   "metadata": {
    "ExecuteTime": {
     "end_time": "2025-09-22T18:37:11.297240Z",
     "start_time": "2025-09-22T18:37:11.282206Z"
    }
   },
   "outputs": [
    {
     "name": "stdout",
     "output_type": "stream",
     "text": [
      "2.0\n"
     ]
    }
   ],
   "source": [
    "from typing import List\n",
    "\n",
    "def mean(values: List[float]) -> float:\n",
    "    return sum(values) / len(values)\n",
    "\n",
    "print(mean([1.0, 2.0, 3.0]))\n"
   ]
  },
  {
   "cell_type": "markdown",
   "id": "2cfaede1",
   "metadata": {},
   "source": [
    "## 4) Opérations de base & print / f-strings\n",
    "\n",
    "- `print()` pour afficher. Préférer f-strings (`f\"...{var}...\"`) pour formattage moderne.\n",
    "\n",
    "### Opérations basiques et f-strings"
   ]
  },
  {
   "cell_type": "code",
   "execution_count": 39,
   "id": "12cb58bc",
   "metadata": {
    "ExecuteTime": {
     "end_time": "2025-09-22T18:37:12.447426Z",
     "start_time": "2025-09-22T18:37:12.433126Z"
    }
   },
   "outputs": [
    {
     "name": "stdout",
     "output_type": "stream",
     "text": [
      "a + b = 7\n",
      "a / b = 2.500\n",
      "Bonjour, Abraham!\n",
      "Bonjour Abraham. Sache que 5+2 = 7\n"
     ]
    }
   ],
   "source": [
    "a = 5\n",
    "b = 2\n",
    "print(\"a + b =\", a + b)\n",
    "print(f\"a / b = {a / b:.3f}\")\n",
    "\n",
    "# Concaténation de strings\n",
    "name = \"Abraham\"\n",
    "print(f\"Bonjour, {name}!\")\n",
    "print(f\"Bonjour {name}. Sache que {a}+{b} = {a+b}\")"
   ]
  },
  {
   "cell_type": "markdown",
   "id": "449ad2d2",
   "metadata": {},
   "source": [
    "## 5) Strings et f-strings rapides\n",
    "\n",
    "Quelques opérations utiles pour data : `.split()`, `.strip()`, `.lower()`, `.replace()`, et f-strings pour construire des messages ou chemins.\n"
   ]
  },
  {
   "cell_type": "code",
   "execution_count": 40,
   "id": "4dc01af5",
   "metadata": {
    "ExecuteTime": {
     "end_time": "2025-09-22T18:37:13.427671Z",
     "start_time": "2025-09-22T18:37:13.422998Z"
    }
   },
   "outputs": [
    {
     "name": "stdout",
     "output_type": "stream",
     "text": [
      "PYTHON EST GÉNIAL\n",
      "python est génial\n",
      "Contient 'python': False\n",
      "Contient 'Python': True\n",
      "Commence par 'Python': True\n",
      "Se termine par 'génial': True\n",
      "Valeur arrondie: 123.46\n"
     ]
    }
   ],
   "source": [
    "s = \"Python est génial\"\n",
    "print(s.upper())\n",
    "print(s.lower())\n",
    "print(\"Contient 'python':\", s.__contains__(\"python\"))\n",
    "print(\"Contient 'Python':\", s.__contains__(\"Python\"))\n",
    "print(\"Commence par 'Python':\", s.startswith(\"Python\"))\n",
    "print(\"Se termine par 'génial':\", s.endswith(\"génial\"))\n",
    "\n",
    "# f-strings multi-lignes et expressions\n",
    "val = 123.456\n",
    "print(f\"Valeur arrondie: {val:.2f}\")"
   ]
  },
  {
   "cell_type": "markdown",
   "id": "16c1d5c2",
   "metadata": {},
   "source": [
    "## 6) Structures conditionnelles\n",
    "`if / elif / else` — syntaxe simple, indentation significative."
   ]
  },
  {
   "cell_type": "code",
   "execution_count": 41,
   "id": "94fe743f",
   "metadata": {
    "ExecuteTime": {
     "end_time": "2025-09-22T18:37:14.627368Z",
     "start_time": "2025-09-22T18:37:14.624464Z"
    }
   },
   "outputs": [
    {
     "name": "stdout",
     "output_type": "stream",
     "text": [
      "positif\n"
     ]
    }
   ],
   "source": [
    "x = 10\n",
    "if x < 0:\n",
    "    print(\"neg\")\n",
    "elif x == 0:\n",
    "    print(\"zero\")\n",
    "else:\n",
    "    print(\"positif\")"
   ]
  },
  {
   "cell_type": "markdown",
   "id": "9d33650f",
   "metadata": {},
   "source": [
    "### Condition ternaire"
   ]
  },
  {
   "cell_type": "code",
   "execution_count": 42,
   "id": "cb2e7ff1",
   "metadata": {
    "ExecuteTime": {
     "end_time": "2025-09-22T18:37:15.733021Z",
     "start_time": "2025-09-22T18:37:15.729223Z"
    }
   },
   "outputs": [
    {
     "name": "stdout",
     "output_type": "stream",
     "text": [
      "+\n"
     ]
    }
   ],
   "source": [
    "x=10\n",
    "sign = \"+\" if x > 0 else \"-\"\n",
    "print(sign)"
   ]
  },
  {
   "cell_type": "markdown",
   "id": "c9bf5bb5",
   "metadata": {},
   "source": [
    "## 7) Boucles et itérations\n",
    "- `for` parcourt des itérables (list, range, dict, generator, etc.).\n",
    "- `while` pour conditions dépendant d'état.\n",
    "- `enumerate` et `zip` sont très utiles.\n",
    "\n",
    "### for loop"
   ]
  },
  {
   "cell_type": "code",
   "execution_count": 43,
   "id": "b7cb29b3",
   "metadata": {
    "ExecuteTime": {
     "end_time": "2025-09-22T18:37:16.548972Z",
     "start_time": "2025-09-22T18:37:16.525006Z"
    }
   },
   "outputs": [
    {
     "name": "stdout",
     "output_type": "stream",
     "text": [
      "0\n",
      "1\n",
      "2\n"
     ]
    }
   ],
   "source": [
    "for i in range(3):\n",
    "    print(i)\n"
   ]
  },
  {
   "cell_type": "markdown",
   "id": "6e1dc775",
   "metadata": {},
   "source": [
    "### iterer sur liste"
   ]
  },
  {
   "cell_type": "code",
   "execution_count": 44,
   "id": "ba8ffb05",
   "metadata": {
    "ExecuteTime": {
     "end_time": "2025-09-22T18:37:17.384032Z",
     "start_time": "2025-09-22T18:37:17.371627Z"
    }
   },
   "outputs": [
    {
     "name": "stdout",
     "output_type": "stream",
     "text": [
      "pomme\n",
      "banane\n",
      "cerise\n"
     ]
    }
   ],
   "source": [
    "fruits = [\"pomme\", \"banane\", \"cerise\"]\n",
    "for element in fruits: \n",
    "    print(element)"
   ]
  },
  {
   "cell_type": "code",
   "execution_count": 45,
   "id": "53cd58db",
   "metadata": {
    "ExecuteTime": {
     "end_time": "2025-09-22T18:37:18.016932Z",
     "start_time": "2025-09-22T18:37:18.008651Z"
    }
   },
   "outputs": [
    {
     "name": "stdout",
     "output_type": "stream",
     "text": [
      "0 pomme\n",
      "1 banane\n",
      "2 cerise\n"
     ]
    }
   ],
   "source": [
    "fruits = [\"pomme\", \"banane\", \"cerise\"]\n",
    "for idx, fruit in enumerate(fruits):\n",
    "    print(idx, fruit)"
   ]
  },
  {
   "cell_type": "markdown",
   "id": "cbb6350f",
   "metadata": {},
   "source": [
    "### zip"
   ]
  },
  {
   "cell_type": "code",
   "execution_count": 46,
   "id": "c40a25b5",
   "metadata": {
    "ExecuteTime": {
     "end_time": "2025-09-22T18:37:19.342911Z",
     "start_time": "2025-09-22T18:37:19.338155Z"
    }
   },
   "outputs": [
    {
     "name": "stdout",
     "output_type": "stream",
     "text": [
      "A 10\n",
      "B 20\n",
      "C 15\n"
     ]
    }
   ],
   "source": [
    "names = [\"A\", \"B\", \"C\"]\n",
    "scores = [10, 20, 15]\n",
    "for name, score in zip(names, scores):\n",
    "    print(name, score)"
   ]
  },
  {
   "cell_type": "markdown",
   "id": "6bcd567d",
   "metadata": {},
   "source": [
    "### while"
   ]
  },
  {
   "cell_type": "code",
   "execution_count": 47,
   "id": "70b4e0d9",
   "metadata": {
    "ExecuteTime": {
     "end_time": "2025-09-22T18:37:20.294879Z",
     "start_time": "2025-09-22T18:37:20.292509Z"
    }
   },
   "outputs": [
    {
     "name": "stdout",
     "output_type": "stream",
     "text": [
      "tick 3\n",
      "tick 2\n",
      "tick 1\n"
     ]
    }
   ],
   "source": [
    "n = 3\n",
    "while n > 0:\n",
    "    print(\"tick\", n)\n",
    "    n -= 1"
   ]
  },
  {
   "cell_type": "markdown",
   "id": "b0466073",
   "metadata": {},
   "source": [
    "## 8) Structures de données clés\n",
    "\n",
    "**List** — séquence ordonnée, mutable, accepte doublons. Usage : collection ordonnée modifiable. Opérations courantes : `append(x)` (ajoute en fin, amortized O(1)), `insert(i,x)`, `extend(iterable)`, `remove(x)` (supprime la 1ʳᵉ occurrence), `pop(i)` (retire et retourne), `del L[i]` ou `del L[start:stop]`. Exemple :"
   ]
  },
  {
   "cell_type": "code",
   "execution_count": 48,
   "id": "9201a603",
   "metadata": {
    "ExecuteTime": {
     "end_time": "2025-09-22T18:37:21.063297Z",
     "start_time": "2025-09-22T18:37:21.057424Z"
    }
   },
   "outputs": [
    {
     "name": "stdout",
     "output_type": "stream",
     "text": [
      "Initialisation [1, 2, 3]\n",
      "Ajout [1, 2, 3, 4, 2]\n",
      "Suppression [2, 3, 4, 2]\n"
     ]
    }
   ],
   "source": [
    "L = [1,2,3]\n",
    "print(\"Initialisation\",L)\n",
    "L.append(4)      \n",
    "L.append(2)  \n",
    "print(\"Ajout\",L)\n",
    "L.remove(1)      \n",
    "print(\"Suppression\",L)\n"
   ]
  },
  {
   "cell_type": "markdown",
   "id": "0b391db2",
   "metadata": {},
   "source": [
    "\n",
    "\n",
    "**Dict** — mapping clé→valeur, mutable, clés uniques, insertion-ordered (depuis Python 3.7). Usage : lookup rapide par clé. Opérations : `d[k] = v` (ajout / update, O(1) avg), `del d[k]`, `d.pop(k)`, `d.update({...})`, `d.popitem()` (retire un couple). Exemple :"
   ]
  },
  {
   "cell_type": "code",
   "execution_count": 49,
   "id": "ee84706c",
   "metadata": {
    "ExecuteTime": {
     "end_time": "2025-09-22T18:37:21.900072Z",
     "start_time": "2025-09-22T18:37:21.877118Z"
    }
   },
   "outputs": [
    {
     "name": "stdout",
     "output_type": "stream",
     "text": [
      "Initialisation {'a': 1, 'age': 15, 'nom': 'abraham'}\n",
      "Ajout {'a': 1, 'age': 15, 'nom': 'abraham', 'b': 2}\n",
      "Modification {'a': 10, 'age': 15, 'nom': 'abraham', 'b': 2}\n",
      "Suppression {'a': 10, 'age': 15, 'nom': 'abraham'}\n"
     ]
    }
   ],
   "source": [
    "d = {\"a\":1, \"age\":15, \"nom\":\"abraham\"}\n",
    "print(\"Initialisation\",d)\n",
    "d[\"b\"] = 2       \n",
    "print(\"Ajout\",d)\n",
    "d[\"a\"] = 10      \n",
    "print(\"Modification\",d)\n",
    "del d[\"b\"]       \n",
    "print(\"Suppression\",d)"
   ]
  },
  {
   "cell_type": "markdown",
   "id": "5ee99805",
   "metadata": {},
   "source": [
    "**Tuple** — séquence ordonnée, *immuable*, peut contenir doublons. Usage : valeurs hachables, keys pour dict, return multi-valued. On **ne modifie pas** un tuple (pas d`append`/`remove`); pour « modifier » il faut créer un nouveau tuple (concaténation). Exemple :"
   ]
  },
  {
   "cell_type": "code",
   "execution_count": 50,
   "id": "f879144c",
   "metadata": {
    "ExecuteTime": {
     "end_time": "2025-09-22T18:37:22.697371Z",
     "start_time": "2025-09-22T18:37:22.674774Z"
    }
   },
   "outputs": [
    {
     "name": "stdout",
     "output_type": "stream",
     "text": [
      "Initialisation (3, 1, 2)\n",
      "Ajout (3, 1, 2, 3)\n"
     ]
    }
   ],
   "source": [
    "t = (3,1,2)\n",
    "print(\"Initialisation\",t)\n",
    "t2 = t + (3,)    \n",
    "print(\"Ajout\",t2)"
   ]
  },
  {
   "cell_type": "markdown",
   "id": "bb3af6d1",
   "metadata": {},
   "source": [
    "**Set** — collection non ordonnée d’éléments uniques, mutable (frozenset est immuable). Usage : tests d’appartenance rapides, opérations ensemblistes. Opérations : `s.add(x)` (ajout), `s.remove(x)` (erreur si absent), `s.discard(x)` (silencieux si absent), `s.pop()` (retire un élément arbitraire), et opérations `s | t` (union), `s & t` (intersection), `s - t` (diff). Exemple :"
   ]
  },
  {
   "cell_type": "code",
   "execution_count": 51,
   "id": "0f8447c0",
   "metadata": {
    "ExecuteTime": {
     "end_time": "2025-09-22T18:37:23.481478Z",
     "start_time": "2025-09-22T18:37:23.467915Z"
    }
   },
   "outputs": [
    {
     "name": "stdout",
     "output_type": "stream",
     "text": [
      "Initialisation {1, 2}\n",
      "Ajout {1, 2, 3}\n",
      "Ajout de 2 (existant) {1, 2, 3}\n",
      "Suppression {1, 3}\n"
     ]
    }
   ],
   "source": [
    "s = {1,2}\n",
    "print(\"Initialisation\",s)\n",
    "s.add(3)         \n",
    "print(\"Ajout\",s)\n",
    "s.add(2)\n",
    "print(\"Ajout de 2 (existant)\",s)\n",
    "s.discard(2)     \n",
    "print(\"Suppression\",s)"
   ]
  },
  {
   "cell_type": "markdown",
   "id": "0533d515",
   "metadata": {},
   "source": [
    "**Rappels utiles** :\n",
    "\n",
    "* `list` conserve l’ordre et est adaptée aux séquences indexables ; `dict` et `set` offrent accès/ajout/suppression en moyenne O(1) (hash-based).\n",
    "* `tuple` est utile quand on veut immutabilité (sécurité, hashabilité).\n",
    "* Choix pratique : *list* pour séquence ordonnée modifiable, *dict* pour mapping clé→valeur, *set* pour collection d’éléments uniques et tests d’appartenance rapides, *tuple* quand l’immuabilité est requise."
   ]
  },
  {
   "cell_type": "markdown",
   "id": "a479fac9",
   "metadata": {},
   "source": [
    "## 9) Compréhensions (list/dict/set) et générateurs\n",
    "\n",
    "Compréhensions = idiomatique et souvent plus rapide que boucles explicites pour créer des structures.\n",
    "\n",
    "#### list comprehension"
   ]
  },
  {
   "cell_type": "code",
   "execution_count": 52,
   "id": "41055b1a",
   "metadata": {
    "ExecuteTime": {
     "end_time": "2025-09-22T18:37:24.605776Z",
     "start_time": "2025-09-22T18:37:24.602080Z"
    }
   },
   "outputs": [
    {
     "name": "stdout",
     "output_type": "stream",
     "text": [
      "[0, 1, 4, 9, 16]\n"
     ]
    }
   ],
   "source": [
    "l = []\n",
    "for i in range(5):\n",
    "    l.append(i**2)\n",
    "print(l)"
   ]
  },
  {
   "cell_type": "code",
   "execution_count": 53,
   "id": "9d10e938",
   "metadata": {
    "ExecuteTime": {
     "end_time": "2025-09-22T18:37:24.968387Z",
     "start_time": "2025-09-22T18:37:24.965472Z"
    }
   },
   "outputs": [
    {
     "name": "stdout",
     "output_type": "stream",
     "text": [
      "[0, 4, 16, 36, 64]\n"
     ]
    }
   ],
   "source": [
    "squares = [x * x for x in range(10) if x % 2 == 0]\n",
    "print(squares)"
   ]
  },
  {
   "cell_type": "markdown",
   "id": "4bb61a68",
   "metadata": {},
   "source": [
    "### dict comprehension"
   ]
  },
  {
   "cell_type": "code",
   "execution_count": 54,
   "id": "7869c791",
   "metadata": {
    "ExecuteTime": {
     "end_time": "2025-09-22T18:37:25.815520Z",
     "start_time": "2025-09-22T18:37:25.801846Z"
    }
   },
   "outputs": [
    {
     "name": "stdout",
     "output_type": "stream",
     "text": [
      "{0: 0, 1: 1, 2: 4, 3: 9, 4: 16}\n"
     ]
    }
   ],
   "source": [
    "d = {x: x * x for x in range(5)}\n",
    "print(d)"
   ]
  },
  {
   "cell_type": "markdown",
   "id": "4781e828",
   "metadata": {},
   "source": [
    "### set comprehension"
   ]
  },
  {
   "cell_type": "code",
   "execution_count": 55,
   "id": "b75ada6d",
   "metadata": {
    "ExecuteTime": {
     "end_time": "2025-09-22T18:37:26.664495Z",
     "start_time": "2025-09-22T18:37:26.654308Z"
    }
   },
   "outputs": [
    {
     "name": "stdout",
     "output_type": "stream",
     "text": [
      "{0, 1, 2}\n"
     ]
    }
   ],
   "source": [
    "s = {x % 3 for x in range(10)}\n",
    "print(s)"
   ]
  },
  {
   "cell_type": "markdown",
   "id": "97de32f2",
   "metadata": {},
   "source": [
    "### generator expression (lazy)"
   ]
  },
  {
   "cell_type": "code",
   "execution_count": 56,
   "id": "23878ce8",
   "metadata": {
    "ExecuteTime": {
     "end_time": "2025-09-22T18:37:27.350537Z",
     "start_time": "2025-09-22T18:37:27.333851Z"
    }
   },
   "outputs": [
    {
     "name": "stdout",
     "output_type": "stream",
     "text": [
      "0\n",
      "[1, 4, 9, 16]\n"
     ]
    }
   ],
   "source": [
    "gen = (x * x for x in range(5))\n",
    "print(next(gen))\n",
    "print(list(gen))"
   ]
  },
  {
   "cell_type": "markdown",
   "id": "308e6ea4",
   "metadata": {},
   "source": [
    "## 10) Fonctions (définition, args, kwargs, docstrings)\n",
    "\n",
    "- Documenter chaque fonction avec une docstring.\n",
    "- Utiliser typing pour signatures."
   ]
  },
  {
   "cell_type": "code",
   "execution_count": 57,
   "id": "8b0330f6",
   "metadata": {
    "ExecuteTime": {
     "end_time": "2025-09-22T18:37:27.974255Z",
     "start_time": "2025-09-22T18:37:27.971257Z"
    }
   },
   "outputs": [
    {
     "name": "stdout",
     "output_type": "stream",
     "text": [
      "Bonjour, Abraham\n",
      "BONJOUR, ABRAHAM\n"
     ]
    }
   ],
   "source": [
    "def greet(name: str, loud: bool = False) -> str:\n",
    "    \"\"\"\n",
    "    Retourne une salutation.\n",
    "\n",
    "    Args:\n",
    "        name(str): nom de la personne\n",
    "        loud(bool): si vrai, renvoie en majuscules\n",
    "\n",
    "    Returns:\n",
    "        La chaîne de salutation.\n",
    "    \"\"\"\n",
    "    msg = f\"Bonjour, {name}\"\n",
    "    return msg.upper() if loud else msg\n",
    "\n",
    "print(greet(\"Abraham\"))\n",
    "print(greet(\"Abraham\", loud=True))"
   ]
  },
  {
   "cell_type": "code",
   "execution_count": 58,
   "id": "ddd798bc",
   "metadata": {
    "ExecuteTime": {
     "end_time": "2025-09-22T18:37:28.355460Z",
     "start_time": "2025-09-22T18:37:28.342825Z"
    }
   },
   "outputs": [
    {
     "name": "stdout",
     "output_type": "stream",
     "text": [
      "Help on function greet in module __main__:\n",
      "\n",
      "greet(name: str, loud: bool = False) -> str\n",
      "    Retourne une salutation.\n",
      "\n",
      "    Args:\n",
      "        name(str): nom de la personne\n",
      "        loud(bool): si vrai, renvoie en majuscules\n",
      "\n",
      "    Returns:\n",
      "        La chaîne de salutation.\n",
      "\n"
     ]
    }
   ],
   "source": [
    "help(greet)"
   ]
  },
  {
   "cell_type": "markdown",
   "id": "e4ca92c1",
   "metadata": {},
   "source": [
    "### *args / **kwargs"
   ]
  },
  {
   "cell_type": "code",
   "execution_count": 59,
   "id": "a8ee73c1",
   "metadata": {
    "ExecuteTime": {
     "end_time": "2025-09-22T18:37:29.195669Z",
     "start_time": "2025-09-22T18:37:29.165451Z"
    }
   },
   "outputs": [
    {
     "name": "stdout",
     "output_type": "stream",
     "text": [
      "((1, 2), {'a': 3})\n",
      "((1, 2), {'a': 1, 'b': 2})\n"
     ]
    }
   ],
   "source": [
    "from typing import Dict\n",
    "def kwargs_demo(*args, **kwargs)->Dict:\n",
    "    return args, kwargs\n",
    "\n",
    "print(kwargs_demo(1, 2, a=3))\n",
    "print(kwargs_demo(*[1, 2], **{'a':1, 'b':2}))\n"
   ]
  },
  {
   "cell_type": "markdown",
   "id": "45f68ea6",
   "metadata": {},
   "source": [
    "## 11) Lambdas et fonctions anonymes\n",
    "\n",
    "Les lambdas sont utiles pour des callbacks courts mais éviter d'en abuser.\n"
   ]
  },
  {
   "cell_type": "code",
   "execution_count": 60,
   "id": "42bda418",
   "metadata": {
    "ExecuteTime": {
     "end_time": "2025-09-22T18:37:29.659135Z",
     "start_time": "2025-09-22T18:37:29.653922Z"
    }
   },
   "outputs": [
    {
     "name": "stdout",
     "output_type": "stream",
     "text": [
      "[2, 4, 6]\n"
     ]
    }
   ],
   "source": [
    "s = [1, 2, 3]\n",
    "doubled = list(map(lambda x: x * 2, s))\n",
    "print(doubled)"
   ]
  },
  {
   "cell_type": "markdown",
   "id": "9fae2e88",
   "metadata": {},
   "source": [
    "## 12) Gestion des fichiers & context managers\n",
    "\n",
    "Toujours utiliser `with open(...)` pour assurer la fermeture du fichier.\n"
   ]
  },
  {
   "cell_type": "code",
   "execution_count": 27,
   "id": "c456f197",
   "metadata": {
    "ExecuteTime": {
     "end_time": "2025-09-22T18:36:26.440794Z",
     "start_time": "2025-09-22T18:36:26.416420Z"
    }
   },
   "outputs": [
    {
     "name": "stdout",
     "output_type": "stream",
     "text": [
      "Hello.\n",
      "Beinevenu :)\n",
      "Ceci est un test \n",
      "Ceci est un test \n",
      "Ceci est un test \n",
      "Ceci est un test \n",
      "\n"
     ]
    }
   ],
   "source": [
    "from pathlib import Path\n",
    "\n",
    "p = Path(\"../data/tmp_example.txt\")\n",
    "with p.open(\"a\", encoding=\"utf8\") as f:\n",
    "    f.write(\"Ceci est un test \\n\")\n",
    "\n",
    "with p.open(\"r\", encoding=\"utf8\") as f:\n",
    "    print(f.read())"
   ]
  },
  {
   "cell_type": "markdown",
   "id": "f92dffbe",
   "metadata": {},
   "source": [
    "## 13) Exceptions & robustesse\n",
    "`try / except / finally` pour gérer erreurs attendues et nettoyer.\n"
   ]
  },
  {
   "cell_type": "code",
   "execution_count": 2,
   "id": "3e778a64",
   "metadata": {
    "ExecuteTime": {
     "end_time": "2025-09-22T18:36:31.023249Z",
     "start_time": "2025-09-22T18:36:31.010994Z"
    }
   },
   "outputs": [
    {
     "name": "stdout",
     "output_type": "stream",
     "text": [
      "bloc finally exécuté\n"
     ]
    }
   ],
   "source": [
    "try:\n",
    "    1 / 2\n",
    "except ZeroDivisionError as e:\n",
    "    print(\"Erreur gérée:\", e)\n",
    "finally:\n",
    "    print(\"bloc finally exécuté\")"
   ]
  },
  {
   "cell_type": "code",
   "execution_count": 4,
   "id": "facc64a6",
   "metadata": {
    "ExecuteTime": {
     "end_time": "2025-09-22T18:36:31.698408Z",
     "start_time": "2025-09-22T18:36:31.686037Z"
    }
   },
   "outputs": [
    {
     "name": "stdout",
     "output_type": "stream",
     "text": [
      "Conversion réussie\n",
      "pas d'erreur\n",
      "bloc finally exécuté\n"
     ]
    }
   ],
   "source": [
    "try : \n",
    "    int(\"5\")\n",
    "    print(\"Conversion réussie\")\n",
    "except Exception as e:\n",
    "    print(e)\n",
    "else:\n",
    "    print(\"pas d'erreur\")\n",
    "finally:\n",
    "    print(\"bloc finally exécuté\")\n"
   ]
  },
  {
   "cell_type": "markdown",
   "id": "8e4ccda7",
   "metadata": {},
   "source": [
    "### Les erreurs courantes en programmation Python se classent généralement en plusieurs catégories :\n",
    "1. Erreurs de Syntaxe : Ces erreurs surviennent lorsque le code viole les règles grammaticales de Python.\n",
    "   - **IndentationError** : Python utilise l'indentation pour définir les blocs de code, donc une indentation incohérente ou incorrecte (mélange d'espaces et de tabulations, mauvais nombre d'espaces) provoquera cette erreur.\n",
    "   - **Oubli de Deux-points ou de Parenthèses** : Oublier un deux-points à la fin des instructions if, for, while, ou des définitions de fonctions, ou des parenthèses mal appariées/manquantes dans les appels de fonctions ou les expressions.\n",
    "   - **Mots-clés ou Identificateurs Mal Orthographiés** : Erreurs typographiques dans les mots-clés comme print, def, if, ou les noms de variables/fonctions.\n",
    "2. Erreurs d'Exécution (Exceptions) : Ces erreurs surviennent pendant l'exécution du programme, même si la syntaxe est correcte.\n",
    "   - **NameError** : Tentative d'utilisation d'une variable, fonction ou module qui n'a pas été défini ou est hors de portée.\n",
    "   - **TypeError** : Exécution d'une opération sur un objet d'un type inapproprié (par exemple, essayer de concaténer directement une chaîne et un entier).\n",
    "   - **ValueError** : Une fonction reçoit un argument du bon type mais avec une valeur inappropriée (par exemple, int(\"abc\")).\n",
    "   - **IndexError** : Tentative d'accès à un index hors limites dans une séquence comme une liste ou un tuple.\n",
    "   - **KeyError** : Tentative d'accès à une clé inexistante dans un dictionnaire.\n",
    "   - **AttributeError** : Tentative d'accès à un attribut ou une méthode sur un objet qui ne le possède pas.\n",
    "   - **ZeroDivisionError** : Tentative de division d'un nombre par zéro.\n",
    "   - **FileNotFoundError** : Tentative d'ouverture d'un fichier inexistant.\n",
    "   - **ModuleNotFoundError** : Tentative d'importation d'un module introuvable.\n",
    "3. Erreurs Logiques : Ces erreurs ne font pas planter le programme, mais conduisent à des résultats incorrects ou inattendus. Elles sont souvent plus difficiles à diagnostiquer car le programme s'exécute sans lever d'exception.\n",
    "   - **Erreurs de Décalage d'Une Unité** : Courantes dans les boucles ou les opérations basées sur des plages, conduisant à itérer un élément de trop ou de trop peu.\n",
    "   - **Utilisation Incorrecte des Opérateurs** : Utilisation de l'opérateur d'affectation (=) au lieu de l'opérateur de comparaison (==) dans les instructions conditionnelles.\n",
    "   - **Logique Booléenne Incorrecte** : Erreurs dans la construction des conditions if ou des expressions booléennes complexes.\n",
    "\n",
    "\n",
    "## 14) Modules et import\n",
    "Importez ce dont vous avez besoin. Exemple : `import math` ou `from math import sqrt`."
   ]
  },
  {
   "cell_type": "code",
   "execution_count": 30,
   "id": "51b19dfe",
   "metadata": {
    "ExecuteTime": {
     "end_time": "2025-09-22T18:36:33.472244Z",
     "start_time": "2025-09-22T18:36:33.459117Z"
    }
   },
   "outputs": [
    {
     "name": "stdout",
     "output_type": "stream",
     "text": [
      "4.0\n",
      "4\n"
     ]
    }
   ],
   "source": [
    "import math\n",
    "print(math.sqrt(16))\n",
    "from math import ceil\n",
    "print(ceil(3.2))"
   ]
  },
  {
   "cell_type": "code",
   "execution_count": 31,
   "id": "4a38f9ac",
   "metadata": {
    "ExecuteTime": {
     "end_time": "2025-09-22T18:36:34.083333Z",
     "start_time": "2025-09-22T18:36:34.080053Z"
    }
   },
   "outputs": [
    {
     "name": "stdout",
     "output_type": "stream",
     "text": [
      "0.0\n",
      "1.0\n"
     ]
    }
   ],
   "source": [
    "# Faire plusieurs imports\n",
    "from math import sqrt, pow, sin, cos\n",
    "from math import (\n",
    "    sqrt,\n",
    "    pow,\n",
    "    sin,\n",
    "    cos,\n",
    ")\n",
    "\n",
    "from math import *    # déconseillé\n",
    "\n",
    "print(sin(0))\n",
    "print(cos(0))"
   ]
  },
  {
   "cell_type": "code",
   "execution_count": 32,
   "id": "d23f1757",
   "metadata": {
    "ExecuteTime": {
     "end_time": "2025-09-22T18:36:35.195898Z",
     "start_time": "2025-09-22T18:36:34.952083Z"
    }
   },
   "outputs": [
    {
     "ename": "ImportError",
     "evalue": "attempted relative import with no known parent package",
     "output_type": "error",
     "traceback": [
      "\u001b[31m---------------------------------------------------------------------------\u001b[39m",
      "\u001b[31mImportError\u001b[39m                               Traceback (most recent call last)",
      "\u001b[36mCell\u001b[39m\u001b[36m \u001b[39m\u001b[32mIn[32]\u001b[39m\u001b[32m, line 1\u001b[39m\n\u001b[32m----> \u001b[39m\u001b[32m1\u001b[39m \u001b[38;5;28;01mfrom\u001b[39;00m\u001b[38;5;250m \u001b[39m\u001b[34;01m.\u001b[39;00m\u001b[34;01mmodule\u001b[39;00m\u001b[38;5;250m \u001b[39m\u001b[38;5;28;01mimport\u001b[39;00m func   \u001b[38;5;66;03m# depuis le même package\u001b[39;00m\n\u001b[32m      2\u001b[39m \u001b[38;5;28;01mfrom\u001b[39;00m\u001b[38;5;250m \u001b[39m\u001b[34;01m.\u001b[39;00m\u001b[34;01m.\u001b[39;00m\u001b[34;01mother\u001b[39;00m\u001b[38;5;250m \u001b[39m\u001b[38;5;28;01mimport\u001b[39;00m helper \u001b[38;5;66;03m# depuis le package parent\u001b[39;00m\n",
      "\u001b[31mImportError\u001b[39m: attempted relative import with no known parent package"
     ]
    }
   ],
   "source": [
    "from .module import func   # depuis le même package\n",
    "from ..other import helper # depuis le package parent"
   ]
  },
  {
   "cell_type": "code",
   "execution_count": 33,
   "id": "f7d04fc7",
   "metadata": {
    "ExecuteTime": {
     "end_time": "2025-09-22T18:36:47.045693Z",
     "start_time": "2025-09-22T18:36:47.022478Z"
    }
   },
   "outputs": [
    {
     "name": "stdout",
     "output_type": "stream",
     "text": [
      "Help on module math:\n",
      "\n",
      "NAME\n",
      "    math\n",
      "\n",
      "MODULE REFERENCE\n",
      "    https://docs.python.org/3.12/library/math.html\n",
      "\n",
      "    The following documentation is automatically generated from the Python\n",
      "    source files.  It may be incomplete, incorrect or include features that\n",
      "    are considered implementation detail and may vary between Python\n",
      "    implementations.  When in doubt, consult the module reference at the\n",
      "    location listed above.\n",
      "\n",
      "DESCRIPTION\n",
      "    This module provides access to the mathematical functions\n",
      "    defined by the C standard.\n",
      "\n",
      "FUNCTIONS\n",
      "    acos(x, /)\n",
      "        Return the arc cosine (measured in radians) of x.\n",
      "\n",
      "        The result is between 0 and pi.\n",
      "\n",
      "    acosh(x, /)\n",
      "        Return the inverse hyperbolic cosine of x.\n",
      "\n",
      "    asin(x, /)\n",
      "        Return the arc sine (measured in radians) of x.\n",
      "\n",
      "        The result is between -pi/2 and pi/2.\n",
      "\n",
      "    asinh(x, /)\n",
      "        Return the inverse hyperbolic sine of x.\n",
      "\n",
      "    atan(x, /)\n",
      "        Return the arc tangent (measured in radians) of x.\n",
      "\n",
      "        The result is between -pi/2 and pi/2.\n",
      "\n",
      "    atan2(y, x, /)\n",
      "        Return the arc tangent (measured in radians) of y/x.\n",
      "\n",
      "        Unlike atan(y/x), the signs of both x and y are considered.\n",
      "\n",
      "    atanh(x, /)\n",
      "        Return the inverse hyperbolic tangent of x.\n",
      "\n",
      "    cbrt(x, /)\n",
      "        Return the cube root of x.\n",
      "\n",
      "    ceil(x, /)\n",
      "        Return the ceiling of x as an Integral.\n",
      "\n",
      "        This is the smallest integer >= x.\n",
      "\n",
      "    comb(n, k, /)\n",
      "        Number of ways to choose k items from n items without repetition and without order.\n",
      "\n",
      "        Evaluates to n! / (k! * (n - k)!) when k <= n and evaluates\n",
      "        to zero when k > n.\n",
      "\n",
      "        Also called the binomial coefficient because it is equivalent\n",
      "        to the coefficient of k-th term in polynomial expansion of the\n",
      "        expression (1 + x)**n.\n",
      "\n",
      "        Raises TypeError if either of the arguments are not integers.\n",
      "        Raises ValueError if either of the arguments are negative.\n",
      "\n",
      "    copysign(x, y, /)\n",
      "        Return a float with the magnitude (absolute value) of x but the sign of y.\n",
      "\n",
      "        On platforms that support signed zeros, copysign(1.0, -0.0)\n",
      "        returns -1.0.\n",
      "\n",
      "    cos(x, /)\n",
      "        Return the cosine of x (measured in radians).\n",
      "\n",
      "    cosh(x, /)\n",
      "        Return the hyperbolic cosine of x.\n",
      "\n",
      "    degrees(x, /)\n",
      "        Convert angle x from radians to degrees.\n",
      "\n",
      "    dist(p, q, /)\n",
      "        Return the Euclidean distance between two points p and q.\n",
      "\n",
      "        The points should be specified as sequences (or iterables) of\n",
      "        coordinates.  Both inputs must have the same dimension.\n",
      "\n",
      "        Roughly equivalent to:\n",
      "            sqrt(sum((px - qx) ** 2.0 for px, qx in zip(p, q)))\n",
      "\n",
      "    erf(x, /)\n",
      "        Error function at x.\n",
      "\n",
      "    erfc(x, /)\n",
      "        Complementary error function at x.\n",
      "\n",
      "    exp(x, /)\n",
      "        Return e raised to the power of x.\n",
      "\n",
      "    exp2(x, /)\n",
      "        Return 2 raised to the power of x.\n",
      "\n",
      "    expm1(x, /)\n",
      "        Return exp(x)-1.\n",
      "\n",
      "        This function avoids the loss of precision involved in the direct evaluation of exp(x)-1 for small x.\n",
      "\n",
      "    fabs(x, /)\n",
      "        Return the absolute value of the float x.\n",
      "\n",
      "    factorial(n, /)\n",
      "        Find n!.\n",
      "\n",
      "        Raise a ValueError if x is negative or non-integral.\n",
      "\n",
      "    floor(x, /)\n",
      "        Return the floor of x as an Integral.\n",
      "\n",
      "        This is the largest integer <= x.\n",
      "\n",
      "    fmod(x, y, /)\n",
      "        Return fmod(x, y), according to platform C.\n",
      "\n",
      "        x % y may differ.\n",
      "\n",
      "    frexp(x, /)\n",
      "        Return the mantissa and exponent of x, as pair (m, e).\n",
      "\n",
      "        m is a float and e is an int, such that x = m * 2.**e.\n",
      "        If x is 0, m and e are both 0.  Else 0.5 <= abs(m) < 1.0.\n",
      "\n",
      "    fsum(seq, /)\n",
      "        Return an accurate floating point sum of values in the iterable seq.\n",
      "\n",
      "        Assumes IEEE-754 floating point arithmetic.\n",
      "\n",
      "    gamma(x, /)\n",
      "        Gamma function at x.\n",
      "\n",
      "    gcd(*integers)\n",
      "        Greatest Common Divisor.\n",
      "\n",
      "    hypot(...)\n",
      "        hypot(*coordinates) -> value\n",
      "\n",
      "        Multidimensional Euclidean distance from the origin to a point.\n",
      "\n",
      "        Roughly equivalent to:\n",
      "            sqrt(sum(x**2 for x in coordinates))\n",
      "\n",
      "        For a two dimensional point (x, y), gives the hypotenuse\n",
      "        using the Pythagorean theorem:  sqrt(x*x + y*y).\n",
      "\n",
      "        For example, the hypotenuse of a 3/4/5 right triangle is:\n",
      "\n",
      "            >>> hypot(3.0, 4.0)\n",
      "            5.0\n",
      "\n",
      "    isclose(a, b, *, rel_tol=1e-09, abs_tol=0.0)\n",
      "        Determine whether two floating point numbers are close in value.\n",
      "\n",
      "          rel_tol\n",
      "            maximum difference for being considered \"close\", relative to the\n",
      "            magnitude of the input values\n",
      "          abs_tol\n",
      "            maximum difference for being considered \"close\", regardless of the\n",
      "            magnitude of the input values\n",
      "\n",
      "        Return True if a is close in value to b, and False otherwise.\n",
      "\n",
      "        For the values to be considered close, the difference between them\n",
      "        must be smaller than at least one of the tolerances.\n",
      "\n",
      "        -inf, inf and NaN behave similarly to the IEEE 754 Standard.  That\n",
      "        is, NaN is not close to anything, even itself.  inf and -inf are\n",
      "        only close to themselves.\n",
      "\n",
      "    isfinite(x, /)\n",
      "        Return True if x is neither an infinity nor a NaN, and False otherwise.\n",
      "\n",
      "    isinf(x, /)\n",
      "        Return True if x is a positive or negative infinity, and False otherwise.\n",
      "\n",
      "    isnan(x, /)\n",
      "        Return True if x is a NaN (not a number), and False otherwise.\n",
      "\n",
      "    isqrt(n, /)\n",
      "        Return the integer part of the square root of the input.\n",
      "\n",
      "    lcm(*integers)\n",
      "        Least Common Multiple.\n",
      "\n",
      "    ldexp(x, i, /)\n",
      "        Return x * (2**i).\n",
      "\n",
      "        This is essentially the inverse of frexp().\n",
      "\n",
      "    lgamma(x, /)\n",
      "        Natural logarithm of absolute value of Gamma function at x.\n",
      "\n",
      "    log(...)\n",
      "        log(x, [base=math.e])\n",
      "        Return the logarithm of x to the given base.\n",
      "\n",
      "        If the base is not specified, returns the natural logarithm (base e) of x.\n",
      "\n",
      "    log10(x, /)\n",
      "        Return the base 10 logarithm of x.\n",
      "\n",
      "    log1p(x, /)\n",
      "        Return the natural logarithm of 1+x (base e).\n",
      "\n",
      "        The result is computed in a way which is accurate for x near zero.\n",
      "\n",
      "    log2(x, /)\n",
      "        Return the base 2 logarithm of x.\n",
      "\n",
      "    modf(x, /)\n",
      "        Return the fractional and integer parts of x.\n",
      "\n",
      "        Both results carry the sign of x and are floats.\n",
      "\n",
      "    nextafter(x, y, /, *, steps=None)\n",
      "        Return the floating-point value the given number of steps after x towards y.\n",
      "\n",
      "        If steps is not specified or is None, it defaults to 1.\n",
      "\n",
      "        Raises a TypeError, if x or y is not a double, or if steps is not an integer.\n",
      "        Raises ValueError if steps is negative.\n",
      "\n",
      "    perm(n, k=None, /)\n",
      "        Number of ways to choose k items from n items without repetition and with order.\n",
      "\n",
      "        Evaluates to n! / (n - k)! when k <= n and evaluates\n",
      "        to zero when k > n.\n",
      "\n",
      "        If k is not specified or is None, then k defaults to n\n",
      "        and the function returns n!.\n",
      "\n",
      "        Raises TypeError if either of the arguments are not integers.\n",
      "        Raises ValueError if either of the arguments are negative.\n",
      "\n",
      "    pow(x, y, /)\n",
      "        Return x**y (x to the power of y).\n",
      "\n",
      "    prod(iterable, /, *, start=1)\n",
      "        Calculate the product of all the elements in the input iterable.\n",
      "\n",
      "        The default start value for the product is 1.\n",
      "\n",
      "        When the iterable is empty, return the start value.  This function is\n",
      "        intended specifically for use with numeric values and may reject\n",
      "        non-numeric types.\n",
      "\n",
      "    radians(x, /)\n",
      "        Convert angle x from degrees to radians.\n",
      "\n",
      "    remainder(x, y, /)\n",
      "        Difference between x and the closest integer multiple of y.\n",
      "\n",
      "        Return x - n*y where n*y is the closest integer multiple of y.\n",
      "        In the case where x is exactly halfway between two multiples of\n",
      "        y, the nearest even value of n is used. The result is always exact.\n",
      "\n",
      "    sin(x, /)\n",
      "        Return the sine of x (measured in radians).\n",
      "\n",
      "    sinh(x, /)\n",
      "        Return the hyperbolic sine of x.\n",
      "\n",
      "    sqrt(x, /)\n",
      "        Return the square root of x.\n",
      "\n",
      "    sumprod(p, q, /)\n",
      "        Return the sum of products of values from two iterables p and q.\n",
      "\n",
      "        Roughly equivalent to:\n",
      "\n",
      "            sum(itertools.starmap(operator.mul, zip(p, q, strict=True)))\n",
      "\n",
      "        For float and mixed int/float inputs, the intermediate products\n",
      "        and sums are computed with extended precision.\n",
      "\n",
      "    tan(x, /)\n",
      "        Return the tangent of x (measured in radians).\n",
      "\n",
      "    tanh(x, /)\n",
      "        Return the hyperbolic tangent of x.\n",
      "\n",
      "    trunc(x, /)\n",
      "        Truncates the Real x to the nearest Integral toward 0.\n",
      "\n",
      "        Uses the __trunc__ magic method.\n",
      "\n",
      "    ulp(x, /)\n",
      "        Return the value of the least significant bit of the float x.\n",
      "\n",
      "DATA\n",
      "    e = 2.718281828459045\n",
      "    inf = inf\n",
      "    nan = nan\n",
      "    pi = 3.141592653589793\n",
      "    tau = 6.283185307179586\n",
      "\n",
      "FILE\n",
      "    /opt/anaconda3/lib/python3.12/lib-dynload/math.cpython-312-darwin.so\n",
      "\n",
      "\n"
     ]
    }
   ],
   "source": [
    "import math \n",
    "help(math)"
   ]
  },
  {
   "cell_type": "code",
   "execution_count": 34,
   "id": "7e549016",
   "metadata": {
    "ExecuteTime": {
     "end_time": "2025-09-22T18:36:47.711551Z",
     "start_time": "2025-09-22T18:36:47.708252Z"
    }
   },
   "outputs": [
    {
     "name": "stdout",
     "output_type": "stream",
     "text": [
      "Help on built-in function cos in module math:\n",
      "\n",
      "cos(x, /)\n",
      "    Return the cosine of x (measured in radians).\n",
      "\n"
     ]
    }
   ],
   "source": [
    "help(cos)"
   ]
  }
 ],
 "metadata": {
  "kernelspec": {
   "display_name": "streamlit",
   "language": "python",
   "name": "python3"
  },
  "language_info": {
   "codemirror_mode": {
    "name": "ipython",
    "version": 3
   },
   "file_extension": ".py",
   "mimetype": "text/x-python",
   "name": "python",
   "nbconvert_exporter": "python",
   "pygments_lexer": "ipython3",
   "version": "3.10.16"
  }
 },
 "nbformat": 4,
 "nbformat_minor": 5
}
